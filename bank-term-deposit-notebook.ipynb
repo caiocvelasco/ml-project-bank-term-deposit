{
 "cells": [
  {
   "cell_type": "markdown",
   "metadata": {},
   "source": [
    "## Term Deposit Predictive ML Model"
   ]
  },
  {
   "cell_type": "markdown",
   "metadata": {},
   "source": [
    "### Project Development\n",
    "This project was developed locally with Visual Studio Code and GitHub version control.\n",
    "\n",
    "Please check this project @ [GitHub page](https://caiocvelasco.github.io/) or @ [GitHub Repository](https://github.com/caiocvelasco/ml-project-bank-term-deposit/blob/4f1bfa72d17cefdfe2a515054f1f2cfffa3c7749/bank-term-deposit-notebook.ipynb).\n",
    "\n",
    "### Problem Definition\n",
    "\n",
    "A bank would like to understand the main factors driving customers to subscribe a Term Deposit.\n",
    "\n",
    "### Objective\n",
    "Our goal is to build a classifier (supervised machine Learning model) to predict whether customers would subscribe a Term Deposit. In case we find high accuracy in our model, it would imply that the bank marketing department could benefit from an efficient use of available resources by focusing on the \"right\" customers (given by our _classifier_). Moreover, we want to understand which other factors might also affect customers' decision."
   ]
  },
  {
   "cell_type": "markdown",
   "metadata": {},
   "source": [
    "### Background and Terminology\n",
    "\n",
    "Suppose a bank is interested in predicting whether its customers would subscribe a _Bank Term Deposit_. \n",
    "\n",
    "**What is a term deposit and why does someone want to invest their money?**\n",
    "\n",
    "Before answering these questions, let's look into some important definitions and then into some insights from Economic Theory. This will help understand the scenario.\n",
    "\n",
    "**Financial Instruments**\n",
    "\n",
    "A financial instrument is an asset that can be traded between entities. An agreement (or contract) will hold both parties accountable for such transaction.\n",
    "We can divide financial instruments into different classes of financial instruments. An example is the _Debt-Based Financial Instruments_.\n",
    "\n",
    "**Debt-Based Financial Instruments**\n",
    "\n",
    "The term _debt_ comes from the fact that some financial institutions want to raise capital by borrowing money from people. When this transaction happens, the financial institution has the obligation to pay back at a later date, with interest. Thus, the financial institution has a _debt_ with the lender.\n",
    "Such instruments can also be interpreted as a _Certificate of Deposit_, i.e., you _deposit_ money into an account at a financial institution for some period of time in exchange for future compensation.\n",
    "\n",
    "**Maturity**\n",
    "\n",
    "Maturity is the period of time it takes for the lender to withdraw this or her money from the bank. Maturity date is the agreed-upon date on which the investment ends.\n",
    "\n",
    "**Fixed-term Investment**\n",
    "\n",
    "When a financial instrument has a fixed time period of investment, the maturity is known at the time of issuance and the lender cannot withdraw its money befeore maturity without incurring on a _early withdrawal penalty_. This penalty is important to the bank, because a bank makes money by lending its customers deposits to other entities and profiting on top of that. Banks need to reduce risk in their operations and such penalties account for the unexpected costs created by customers who decide to withdraw their deposits before maturity.  \n",
    "\n",
    "**Term Deposit**\n",
    "\n",
    "Term Deposit is an example of a _Fixed-Term, Debt-Based Financial Instrument_, also called a _Certificate of Deposit_.\n",
    "Moreover, a Term Deposit is a risk-free investment since they are backed by the government.\n",
    "In sum:\n",
    "* When a customer subscribes to a **Term Deposit** he or she will deposit (or invest) money into a bank account, agreeing not to withdraw their funds for a fixed period in return for future compensation (interest), i.e., before maturity.\n",
    "\n",
    "**The Decision Problem faced by an Investor**\n",
    "\n",
    "An investor is an individual (or entity) who makes certain decisions regarding how he or she spends his or her money.\n",
    "* How much of my money should I use in consumption (goods or services) now?\n",
    "* From what is left, how much should I spend on investment opportunities?\n",
    "\n",
    "Such decisions are unscapable to the individual because resourses are limited. You only have a certain amount of money and you need to make decisions regarding how to spend it.\n",
    "We say that the investor faces a _trade-off_ between consuming less now to (hopefully) consume more in the future, i.e.:\n",
    "* Spend less in consumption at the beginning of a period in exchange for an investment opportunity that will hopefully earn profits at the end of the period.\n",
    "\n",
    "**Economic Incentives behind Consumer Behavior & Investment Opportunities**\n",
    "\n",
    "An _Economic Incentive_ is something that motivates or drives one to behave in a certain way. The most simple example in Economics is: Prices.\\\n",
    "_Prices_ provide an incentive mechanism that might induce people's behavior in a certain way. For example, if the price of apples go up, you will probably buy less apples (and buy more of some other good or service).\n",
    "\n",
    "Good points to notice:\n",
    "* In periods of rising interest rates in society (usually started by the Central Bank), consumers are more likely to invest because it is better to lend money to the bank than to spend it on consumption now. Thus, when the interest rate is higher, people tend to invest more, hence changing their status-quo behavior. Thus, future expectations of _higher interest rates_ could help predict consumer behavior towards subscribing to **Term Deposits**.\n",
    "* **Term deposits** do not keep up with inflation. If the rate on a term deposit is 3% and the inflation rate. is 3.5%, the customer is not earning enough to compensate for price increases in the economy. Thus, _Inflation Rate_ maybe a strong underlying _economic incentive_ that could help predict consumer behavior towards subscribing to **Term Deposits**."
   ]
  },
  {
   "cell_type": "markdown",
   "metadata": {},
   "source": [
    "### Data Collection\n",
    "Data was already available on a _csv_ format. So I'll skip this section."
   ]
  },
  {
   "cell_type": "markdown",
   "metadata": {},
   "source": [
    "### Importing Libraries"
   ]
  },
  {
   "cell_type": "code",
   "execution_count": 1,
   "metadata": {},
   "outputs": [],
   "source": [
    "import pandas as pd              # for data analysis\n",
    "import numpy as np               # for scientific computing\n",
    "import os                        # for file interactions in the user's operating system\n",
    "\n",
    "import matplotlib.pyplot as plt  # for data visualization\n",
    "import matplotlib as mpl\n",
    "import seaborn as sns            # for data visualization"
   ]
  },
  {
   "cell_type": "markdown",
   "metadata": {},
   "source": [
    "### Importing Dateset\n",
    "\n",
    "1. [_Note_] It is important to import only the data we need to save up time and space. However, this dataset already contains the features we need, so I will skip that.\n",
    "2. [_Importing_] The csv dataset will be imported as a dataframe using pandas.\n",
    "3. [_Independence_] This notebook can be downloaded and saved anywhere in your computer (one needs only to change the name of the folder where the CVS files are located).\n",
    "4. [_Automation_] Any dataset saved in the designated folder will be stored automatically.\n",
    "5. [Stacking] If there is a need to combine (or stack) multiple CSV files, please read the _assumptions_ below.\n",
    "\n",
    "Assumptions\n",
    "* If there is a need to stack (or combine) multiple CSV files based on a matching _filename_ pattern, please check one of my [repositories](https://github.com/caiocvelasco/stack-combine-multiple-csv-files/blob/7854a473046e4dc5876bcf8caa69b4b3d16dc7e1/stack-combine-multiple-csv-files.ipynb). There, you'll find a code to perform this task automatically under the following assumption: the stored CSV files have the same features (aka same columns)."
   ]
  },
  {
   "cell_type": "code",
   "execution_count": 27,
   "metadata": {},
   "outputs": [
    {
     "data": {
      "text/html": [
       "<div>\n",
       "<style scoped>\n",
       "    .dataframe tbody tr th:only-of-type {\n",
       "        vertical-align: middle;\n",
       "    }\n",
       "\n",
       "    .dataframe tbody tr th {\n",
       "        vertical-align: top;\n",
       "    }\n",
       "\n",
       "    .dataframe thead th {\n",
       "        text-align: right;\n",
       "    }\n",
       "</style>\n",
       "<table border=\"1\" class=\"dataframe\">\n",
       "  <thead>\n",
       "    <tr style=\"text-align: right;\">\n",
       "      <th></th>\n",
       "      <th>age</th>\n",
       "      <th>job</th>\n",
       "      <th>marital</th>\n",
       "      <th>education</th>\n",
       "      <th>default</th>\n",
       "      <th>balance</th>\n",
       "      <th>housing</th>\n",
       "      <th>loan</th>\n",
       "      <th>contact</th>\n",
       "      <th>day</th>\n",
       "      <th>month</th>\n",
       "      <th>duration</th>\n",
       "      <th>campaign</th>\n",
       "      <th>pdays</th>\n",
       "      <th>previous</th>\n",
       "      <th>poutcome</th>\n",
       "      <th>y</th>\n",
       "    </tr>\n",
       "  </thead>\n",
       "  <tbody>\n",
       "    <tr>\n",
       "      <th>5913</th>\n",
       "      <td>43</td>\n",
       "      <td>blue-collar</td>\n",
       "      <td>married</td>\n",
       "      <td>primary</td>\n",
       "      <td>no</td>\n",
       "      <td>-476</td>\n",
       "      <td>yes</td>\n",
       "      <td>no</td>\n",
       "      <td>unknown</td>\n",
       "      <td>26</td>\n",
       "      <td>may</td>\n",
       "      <td>16</td>\n",
       "      <td>1</td>\n",
       "      <td>-1</td>\n",
       "      <td>0</td>\n",
       "      <td>unknown</td>\n",
       "      <td>no</td>\n",
       "    </tr>\n",
       "    <tr>\n",
       "      <th>36431</th>\n",
       "      <td>42</td>\n",
       "      <td>unemployed</td>\n",
       "      <td>married</td>\n",
       "      <td>secondary</td>\n",
       "      <td>no</td>\n",
       "      <td>-523</td>\n",
       "      <td>yes</td>\n",
       "      <td>no</td>\n",
       "      <td>cellular</td>\n",
       "      <td>11</td>\n",
       "      <td>may</td>\n",
       "      <td>327</td>\n",
       "      <td>2</td>\n",
       "      <td>-1</td>\n",
       "      <td>0</td>\n",
       "      <td>unknown</td>\n",
       "      <td>no</td>\n",
       "    </tr>\n",
       "    <tr>\n",
       "      <th>17708</th>\n",
       "      <td>27</td>\n",
       "      <td>blue-collar</td>\n",
       "      <td>single</td>\n",
       "      <td>secondary</td>\n",
       "      <td>no</td>\n",
       "      <td>36</td>\n",
       "      <td>no</td>\n",
       "      <td>yes</td>\n",
       "      <td>cellular</td>\n",
       "      <td>29</td>\n",
       "      <td>jul</td>\n",
       "      <td>114</td>\n",
       "      <td>4</td>\n",
       "      <td>-1</td>\n",
       "      <td>0</td>\n",
       "      <td>unknown</td>\n",
       "      <td>no</td>\n",
       "    </tr>\n",
       "    <tr>\n",
       "      <th>31255</th>\n",
       "      <td>72</td>\n",
       "      <td>retired</td>\n",
       "      <td>single</td>\n",
       "      <td>unknown</td>\n",
       "      <td>no</td>\n",
       "      <td>588</td>\n",
       "      <td>no</td>\n",
       "      <td>yes</td>\n",
       "      <td>cellular</td>\n",
       "      <td>5</td>\n",
       "      <td>mar</td>\n",
       "      <td>66</td>\n",
       "      <td>3</td>\n",
       "      <td>-1</td>\n",
       "      <td>0</td>\n",
       "      <td>unknown</td>\n",
       "      <td>no</td>\n",
       "    </tr>\n",
       "    <tr>\n",
       "      <th>5359</th>\n",
       "      <td>29</td>\n",
       "      <td>housemaid</td>\n",
       "      <td>married</td>\n",
       "      <td>secondary</td>\n",
       "      <td>no</td>\n",
       "      <td>823</td>\n",
       "      <td>yes</td>\n",
       "      <td>no</td>\n",
       "      <td>unknown</td>\n",
       "      <td>23</td>\n",
       "      <td>may</td>\n",
       "      <td>14</td>\n",
       "      <td>2</td>\n",
       "      <td>-1</td>\n",
       "      <td>0</td>\n",
       "      <td>unknown</td>\n",
       "      <td>no</td>\n",
       "    </tr>\n",
       "  </tbody>\n",
       "</table>\n",
       "</div>"
      ],
      "text/plain": [
       "       age          job  marital  education default  balance housing loan  \\\n",
       "5913    43  blue-collar  married    primary      no     -476     yes   no   \n",
       "36431   42   unemployed  married  secondary      no     -523     yes   no   \n",
       "17708   27  blue-collar   single  secondary      no       36      no  yes   \n",
       "31255   72      retired   single    unknown      no      588      no  yes   \n",
       "5359    29    housemaid  married  secondary      no      823     yes   no   \n",
       "\n",
       "        contact  day month  duration  campaign  pdays  previous poutcome   y  \n",
       "5913    unknown   26   may        16         1     -1         0  unknown  no  \n",
       "36431  cellular   11   may       327         2     -1         0  unknown  no  \n",
       "17708  cellular   29   jul       114         4     -1         0  unknown  no  \n",
       "31255  cellular    5   mar        66         3     -1         0  unknown  no  \n",
       "5359    unknown   23   may        14         2     -1         0  unknown  no  "
      ]
     },
     "execution_count": 27,
     "metadata": {},
     "output_type": "execute_result"
    }
   ],
   "source": [
    "# Basic Settings\n",
    "\n",
    "csv_folder_name = \"bank_marketing\"  # please, change the folder name where the CSV files are stored **if need be**\n",
    "notebook_location = \"C:\\\\Users\\\\caiov\\\\OneDrive - UCLA IT Services\\\\Documentos\\\\DataScience\\\\Datasets\" # set the location where this notebook is saved\n",
    "csv_folder_path = notebook_location + \"\\\\\" + csv_folder_name  # set path for the CSV files\n",
    "os.chdir(csv_folder_path)                                     # set location of CSV files\n",
    "\n",
    "# Save cvs data on a pandas dataframe\n",
    "df = pd.read_csv(\"bank-full-case.csv\", sep = \";\", skipinitialspace = True) #skip space after delimiter\n",
    "\n",
    "# Save a copy of the dataframe\n",
    "data = df.copy()\n",
    "\n",
    "# Basic Formatting\n",
    "data.name = \"Bank Term Deposit Dataset\" # rename the dataset \n",
    "cols = data.columns;                    # create a list with features names\n",
    "\n",
    "# Quick overview of a sample from the data\n",
    "data.sample(5)"
   ]
  },
  {
   "cell_type": "markdown",
   "metadata": {},
   "source": [
    "### Exploratory Data Analysis - EDA\n",
    "\n",
    "* Shape and Size"
   ]
  },
  {
   "cell_type": "code",
   "execution_count": 3,
   "metadata": {},
   "outputs": [
    {
     "name": "stdout",
     "output_type": "stream",
     "text": [
      "Dataset shape: 45211 observations and 17 features.\n",
      "This dataset has a total of: 768587 entries.\n"
     ]
    }
   ],
   "source": [
    "# Check Shape and Size\n",
    "print(\"Dataset shape: \" + str(data.shape[0]) + \" observations and \" + str(data.shape[1]) + \" features.\")\n",
    "print(\"This dataset has a total of: \" + str(data.size) + \" entries.\")"
   ]
  },
  {
   "cell_type": "markdown",
   "metadata": {},
   "source": [
    "* Data Types\n",
    "\n",
    "All features have the expected type. Notice that all non-null counts are the same, so the dataset does not seem to have missing values. However, let's take a closer look into it."
   ]
  },
  {
   "cell_type": "code",
   "execution_count": 4,
   "metadata": {},
   "outputs": [
    {
     "name": "stdout",
     "output_type": "stream",
     "text": [
      "Bank Term Deposit Dataset\n",
      "--------------------------------------\n",
      "<class 'pandas.core.frame.DataFrame'>\n",
      "RangeIndex: 45211 entries, 0 to 45210\n",
      "Data columns (total 17 columns):\n",
      " #   Column     Non-Null Count  Dtype \n",
      "---  ------     --------------  ----- \n",
      " 0   age        45211 non-null  int64 \n",
      " 1   job        45211 non-null  object\n",
      " 2   marital    45211 non-null  object\n",
      " 3   education  45211 non-null  object\n",
      " 4   default    45211 non-null  object\n",
      " 5   balance    45211 non-null  int64 \n",
      " 6   housing    45211 non-null  object\n",
      " 7   loan       45211 non-null  object\n",
      " 8   contact    45211 non-null  object\n",
      " 9   day        45211 non-null  int64 \n",
      " 10  month      45211 non-null  object\n",
      " 11  duration   45211 non-null  int64 \n",
      " 12  campaign   45211 non-null  int64 \n",
      " 13  pdays      45211 non-null  int64 \n",
      " 14  previous   45211 non-null  int64 \n",
      " 15  poutcome   45211 non-null  object\n",
      " 16  y          45211 non-null  object\n",
      "dtypes: int64(7), object(10)\n",
      "memory usage: 5.9+ MB\n",
      "--------------------------------------\n",
      "All features have the expected type.\n",
      "Notice that all non-null counts are the same, so it does not seem to have missing values. However, let's take a closer look into it.\n"
     ]
    }
   ],
   "source": [
    "# Check data types\n",
    "print(data.name)\n",
    "print(\"--------------------------------------\")\n",
    "\n",
    "data.info() # get summary of dataset types\n",
    "print(\"--------------------------------------\")"
   ]
  },
  {
   "cell_type": "markdown",
   "metadata": {},
   "source": [
    "* Unique Values - A closer look into categorical variables\n",
    "\n",
    "All features look good and with the expected categories. There are no unexpected values across categories.\n",
    "However, we do see some 'unknown' values in the data for the following categories: job, education, contact, and poutcome."
   ]
  },
  {
   "cell_type": "code",
   "execution_count": 26,
   "metadata": {},
   "outputs": [
    {
     "name": "stdout",
     "output_type": "stream",
     "text": [
      "Unique values in job are ['management' 'technician' 'entrepreneur' 'blue-collar' 'unknown'\n",
      " 'retired' 'admin.' 'services' 'self-employed' 'unemployed' 'housemaid'\n",
      " 'student']\n",
      "----------------------------------------------------------------------------------------------------\n",
      "Unique values in marital are ['married' 'single' 'divorced']\n",
      "----------------------------------------------------------------------------------------------------\n",
      "Unique values in education are ['tertiary' 'secondary' 'unknown' 'primary']\n",
      "----------------------------------------------------------------------------------------------------\n",
      "Unique values in default are ['no' 'yes']\n",
      "----------------------------------------------------------------------------------------------------\n",
      "Unique values in housing are ['yes' 'no']\n",
      "----------------------------------------------------------------------------------------------------\n",
      "Unique values in loan are ['no' 'yes']\n",
      "----------------------------------------------------------------------------------------------------\n",
      "Unique values in contact are ['unknown' 'cellular' 'telephone']\n",
      "----------------------------------------------------------------------------------------------------\n",
      "Unique values in month are ['may' 'jun' 'jul' 'aug' 'oct' 'nov' 'dec' 'jan' 'feb' 'mar' 'apr' 'sep']\n",
      "----------------------------------------------------------------------------------------------------\n",
      "Unique values in poutcome are ['unknown' 'failure' 'other' 'success']\n",
      "----------------------------------------------------------------------------------------------------\n",
      "Unique values in y are ['no' 'yes']\n",
      "----------------------------------------------------------------------------------------------------\n",
      "Columns with missing values set as 'unknown':\n"
     ]
    },
    {
     "data": {
      "text/plain": [
       "['job', 'education', 'contact', 'poutcome']"
      ]
     },
     "execution_count": 26,
     "metadata": {},
     "output_type": "execute_result"
    }
   ],
   "source": [
    "# Check for unique values into caterogical variables\n",
    "\n",
    "def unique_val(data):                                          # define a function (output: unique values in the categorical variables)\n",
    "    for i in cols:                                             # cols is the list of features from this dataset defined in the \"Importing the Dataset\" section above\n",
    "        if data[i].dtype == 'O':                               # check whether features are categorical variables. 'O' stand for object type.\n",
    "            print('Unique values in',i,'are',data[i].unique()) # calls function unique() to find get unique values\n",
    "            print('----------------------------------------------------------------------------------------------------')\n",
    "unique_val(data)                  # calls the function\n",
    "\n",
    "print(\"Columns with missing values set as 'unknown':\")\n",
    "cols[                       # uses the list of columns 'cols' and subsets it to the condition we want\n",
    "    (df == 'unknown')       # makes a boolean with True/False \n",
    "    .any(axis = 0)          # returns false unless there is at least one element metting the condition withing a series or along a df axis\n",
    "].to_list()                 # return a list of the values"
   ]
  },
  {
   "cell_type": "markdown",
   "metadata": {},
   "source": [
    "* Missing Values"
   ]
  },
  {
   "cell_type": "code",
   "execution_count": 23,
   "metadata": {},
   "outputs": [
    {
     "name": "stdout",
     "output_type": "stream",
     "text": [
      "Checking for missing values in the Bank Term Deposit Dataset\n",
      "------------------------------------------------------------\n",
      "age          0\n",
      "job          0\n",
      "marital      0\n",
      "education    0\n",
      "default      0\n",
      "balance      0\n",
      "housing      0\n",
      "loan         0\n",
      "contact      0\n",
      "day          0\n",
      "month        0\n",
      "duration     0\n",
      "campaign     0\n",
      "pdays        0\n",
      "previous     0\n",
      "poutcome     0\n",
      "y            0\n",
      "dtype: int64\n",
      "------------------------------------------------------------\n"
     ]
    }
   ],
   "source": [
    "print('Checking for missing values in the', data.name)\n",
    "print('------------------------------------------------------------')\n",
    "print(data.isnull().sum())\n",
    "print('------------------------------------------------------------')"
   ]
  },
  {
   "cell_type": "markdown",
   "metadata": {},
   "source": [
    "* Handling Missing Values\n",
    "\n",
    "Usually, one of the following is performed To handle missing values:\n",
    "    - Dropping observations or features.\n",
    "    - Imputation via values: filling missing date with some statistic or some value (e.g.: mean, median or 'Unknown').\n",
    "    - Imputation via prediction model: \n",
    "\n",
    "In this dataset, there is no missing values in the N/A format. However, as we just saw above, some missing values are treated as 'unknown' values.\n",
    "It is important to check whether missing information has any degree of association with the outcome we want to predict. That should be included in the model. However, given the timeframe, I will skip this part."
   ]
  },
  {
   "cell_type": "code",
   "execution_count": null,
   "metadata": {},
   "outputs": [],
   "source": []
  }
 ],
 "metadata": {
  "interpreter": {
   "hash": "ac7dd041828cf56631353191c608ccde6a0be02c5ac588a2993150c1410b91d4"
  },
  "kernelspec": {
   "display_name": "Python 3.9.7 ('base')",
   "language": "python",
   "name": "python3"
  },
  "language_info": {
   "codemirror_mode": {
    "name": "ipython",
    "version": 3
   },
   "file_extension": ".py",
   "mimetype": "text/x-python",
   "name": "python",
   "nbconvert_exporter": "python",
   "pygments_lexer": "ipython3",
   "version": "3.9.7"
  },
  "orig_nbformat": 4
 },
 "nbformat": 4,
 "nbformat_minor": 2
}
