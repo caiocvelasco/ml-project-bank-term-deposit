{
 "cells": [
  {
   "cell_type": "markdown",
   "metadata": {},
   "source": [
    "## Term Deposit Predictive ML Model"
   ]
  },
  {
   "cell_type": "markdown",
   "metadata": {},
   "source": [
    "### Housekeping\n",
    "1. How was this project conducted?\n",
    "This project was developed locally with Visual Studio Code and GitHub version control.\n",
    "In case you want to check it out, please check my personal [GitHub page](https://caiocvelasco.github.io/) or go to this [repository](https://caiocvelasco.github.io/).\n"
   ]
  }
 ],
 "metadata": {
  "language_info": {
   "name": "python"
  },
  "orig_nbformat": 4
 },
 "nbformat": 4,
 "nbformat_minor": 2
}
