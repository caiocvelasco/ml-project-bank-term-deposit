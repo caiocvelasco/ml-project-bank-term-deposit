{
 "cells": [
  {
   "cell_type": "markdown",
   "metadata": {},
   "source": [
    "# Term Deposit Predictive ML Model"
   ]
  },
  {
   "cell_type": "markdown",
   "metadata": {},
   "source": [
    "## Contents\n",
    "\n",
    "* About\n",
    "    * Project Development\n",
    "    * Problem Definition\n",
    "    * Objective\n",
    "    * Field Knowledge\n",
    "* Data\n",
    "    * Libraries\n",
    "    * Importing\n",
    "    * Features\n",
    "* Exploratory Data Analysis (EDA)\n",
    "    * Shape and Size\n",
    "    * Types\n",
    "    * Unique Values\n",
    "    * Missing Values\n",
    "    * Units Conversion\n",
    "    * Overview - Continuous and Categorical Data\n",
    "    * Continuous Variables\n",
    "        * Summary statistics\n",
    "        * Making sense of the data\n",
    "        * Outliers detection and treatment\n",
    "    * Catagorical Variables "
   ]
  },
  {
   "cell_type": "markdown",
   "metadata": {},
   "source": [
    "## About\n",
    "\n",
    "### Project Development\n",
    "This project was developed locally with Visual Studio Code and GitHub version control.\n",
    "\n",
    "Please check this project @ [GitHub page](https://caiocvelasco.github.io/) or @ [GitHub Repository](https://github.com/caiocvelasco/ml-project-bank-term-deposit/blob/4f1bfa72d17cefdfe2a515054f1f2cfffa3c7749/bank-term-deposit-notebook.ipynb).\n",
    "\n",
    "### Problem Definition\n",
    "\n",
    "A bank would like to understand the main factors driving customers to subscribe a Term Deposit.\n",
    "\n",
    "### Objective\n",
    "Our goal is to build a classifier (supervised machine Learning model) to predict whether customers would subscribe a Term Deposit. In case we find high accuracy in our model, it would imply that the bank marketing department could benefit from an efficient use of available resources by focusing on the \"right\" customers (given by our _classifier_). Moreover, we want to understand which other factors might also affect customers' decision.\n",
    "\n",
    "* Recall: Classification Model\n",
    "\n",
    "    The goal of a classification model is to build a data-driven model that learns an unknown underlying function that maps several input variables, which characterize an item (e.g., bank client, with one labeled output target (e.g., type of bank deposit sell: “failure” or “success”). \n",
    "    _[Moro et al., 2014] S. Moro, P. Cortez and P. Rita. A Data-Driven Approach to Predict the Success of Bank Telemarketing. Decision Support Systems, Elsevier, 62:22-31, June 2014_\n",
    "\n",
    "### Field Knowledge\n",
    "\n",
    "Suppose a bank is interested in predicting whether its customers would subscribe a _Bank Term Deposit_. \n",
    "\n",
    "**What is a term deposit and why does someone want to invest their money?**\n",
    "\n",
    "Before answering these questions, let's look into some important definitions and then into some insights from Economic Theory. This will help understand the scenario.\n",
    "\n",
    "**Financial Instruments**\n",
    "\n",
    "A financial instrument is an asset that can be traded between entities. An agreement (or contract) will hold both parties accountable for such transaction.\n",
    "We can divide financial instruments into different classes of financial instruments. An example is the _Debt-Based Financial Instruments_.\n",
    "\n",
    "**Debt-Based Financial Instruments**\n",
    "\n",
    "The term _debt_ comes from the fact that some financial institutions want to raise capital by borrowing money from people. When this transaction happens, the financial institution has the obligation to pay back at a later date, with interest. Thus, the financial institution has a _debt_ with the lender.\n",
    "Such instruments can also be interpreted as a _Certificate of Deposit_, i.e., you _deposit_ money into an account at a financial institution for some period of time in exchange for future compensation.\n",
    "\n",
    "**Maturity**\n",
    "\n",
    "Maturity is the period of time it takes for the lender to withdraw this or her money from the bank. Maturity date is the agreed-upon date on which the investment ends.\n",
    "\n",
    "**Fixed-term Investment**\n",
    "\n",
    "When a financial instrument has a fixed time period of investment, the maturity is known at the time of issuance and the lender cannot withdraw its money befeore maturity without incurring on a _early withdrawal penalty_. This penalty is important to the bank, because a bank makes money by lending its customers deposits to other entities and profiting on top of that. Banks need to reduce risk in their operations and such penalties account for the unexpected costs created by customers who decide to withdraw their deposits before maturity.  \n",
    "\n",
    "**Term Deposit**\n",
    "\n",
    "Term Deposit is an example of a _Fixed-Term, Debt-Based Financial Instrument_, also called a _Certificate of Deposit_.\n",
    "Moreover, a Term Deposit is a risk-free investment since they are backed by the government.\n",
    "In sum:\n",
    "* When a customer subscribes to a **Term Deposit** he or she will deposit (or invest) money into a bank account, agreeing not to withdraw their funds for a fixed period in return for future compensation (interest), i.e., before maturity.\n",
    "\n",
    "**The Decision Problem faced by an Investor**\n",
    "\n",
    "An investor is an individual (or entity) who makes certain decisions regarding how he or she spends his or her money.\n",
    "* How much of my money should I use in consumption (goods or services) now?\n",
    "* From what is left, how much should I spend on investment opportunities?\n",
    "\n",
    "Such decisions are unscapable to the individual because resourses are limited. You only have a certain amount of money and you need to make decisions regarding how to spend it.\n",
    "We say that the investor faces a _trade-off_ between consuming less now to (hopefully) consume more in the future, i.e.:\n",
    "* Spend less in consumption at the beginning of a period in exchange for an investment opportunity that will hopefully earn profits at the end of the period.\n",
    "\n",
    "**Economic Incentives behind Consumer Behavior & Investment Opportunities**\n",
    "\n",
    "An _Economic Incentive_ is something that motivates or drives one to behave in a certain way. The most simple example in Economics is: Prices.\\\n",
    "_Prices_ provide an incentive mechanism that might induce people's behavior in a certain way. For example, if the price of apples go up, you will probably buy less apples (and buy more of some other good or service).\n",
    "\n",
    "Good things to know:\n",
    "* In periods of rising interest rates in society (usually started by the Central Bank), consumers are more likely to invest because it is better to lend money to the bank than to spend it on consumption now. Thus, when the interest rate is higher, people tend to invest more, hence changing their status-quo behavior. Thus, future expectations of _higher interest rates_ could help predict consumer behavior towards subscribing to **Term Deposits**.\n",
    "* **Term deposits** do not keep up with inflation. If the rate on a term deposit is 3% and the inflation rate. is 3.5%, the customer is not earning enough to compensate for price increases in the economy. Thus, _Inflation Rate_ maybe a strong underlying _economic incentive_ that could help predict consumer behavior towards subscribing to **Term Deposits**."
   ]
  },
  {
   "cell_type": "markdown",
   "metadata": {},
   "source": [
    "## Data\n",
    "Data was already available on a _csv_ format. So I'll skip this section.\n",
    "\n",
    "### Libraries"
   ]
  },
  {
   "cell_type": "code",
   "execution_count": 90,
   "metadata": {},
   "outputs": [],
   "source": [
    "# !pip install seaborn pandas matplotlib numpy\n",
    "import pandas as pd              # for data analysis\n",
    "import numpy as np               # for scientific computing\n",
    "import os                        # for file interactions in the user's operating system\n",
    "import warnings                  # for dealing with warning messages if need be\n",
    "\n",
    "import matplotlib.pyplot as plt  # for data visualization\n",
    "import matplotlib as mpl\n",
    "import seaborn as sns            # for data visualization"
   ]
  },
  {
   "cell_type": "markdown",
   "metadata": {},
   "source": [
    "### Importing\n",
    "\n",
    "* [_Brief Note_]   It is important to import only the data we need to save up time and space. However, this dataset already contains the features we need, so I will skip that.\n",
    "* [_Importing_]    The csv dataset will be imported as a dataframe using pandas.\n",
    "* [_Independence_] This notebook can be downloaded and saved anywhere in your computer (one needs only to change the name of the folder where the CVS files are located).\n",
    "* [_Automation_]   Any dataset saved in the designated folder will be stored automatically.\n",
    "* [Stacking]       If there is a need to combine (or stack) multiple CSV files, please read the _extra_ below.\n",
    "\n",
    "Extra - Multiple CSV files\n",
    "* If there is a need to stack (or combine) multiple CSV files based on a matching _filename_ pattern, please check one of my [repositories](https://github.com/caiocvelasco/stack-combine-multiple-csv-files/blob/7854a473046e4dc5876bcf8caa69b4b3d16dc7e1/stack-combine-multiple-csv-files.ipynb). There, you'll find a code to perform this task automatically under the following assumption: the stored CSV files have the same features (aka same columns)."
   ]
  },
  {
   "cell_type": "code",
   "execution_count": 91,
   "metadata": {},
   "outputs": [
    {
     "data": {
      "text/html": [
       "<div>\n",
       "<style scoped>\n",
       "    .dataframe tbody tr th:only-of-type {\n",
       "        vertical-align: middle;\n",
       "    }\n",
       "\n",
       "    .dataframe tbody tr th {\n",
       "        vertical-align: top;\n",
       "    }\n",
       "\n",
       "    .dataframe thead th {\n",
       "        text-align: right;\n",
       "    }\n",
       "</style>\n",
       "<table border=\"1\" class=\"dataframe\">\n",
       "  <thead>\n",
       "    <tr style=\"text-align: right;\">\n",
       "      <th></th>\n",
       "      <th>age</th>\n",
       "      <th>job</th>\n",
       "      <th>marital</th>\n",
       "      <th>education</th>\n",
       "      <th>default</th>\n",
       "      <th>balance</th>\n",
       "      <th>housing</th>\n",
       "      <th>loan</th>\n",
       "      <th>contact</th>\n",
       "      <th>day</th>\n",
       "      <th>month</th>\n",
       "      <th>duration</th>\n",
       "      <th>campaign</th>\n",
       "      <th>pdays</th>\n",
       "      <th>previous</th>\n",
       "      <th>poutcome</th>\n",
       "      <th>y</th>\n",
       "    </tr>\n",
       "  </thead>\n",
       "  <tbody>\n",
       "    <tr>\n",
       "      <th>17130</th>\n",
       "      <td>39</td>\n",
       "      <td>technician</td>\n",
       "      <td>married</td>\n",
       "      <td>secondary</td>\n",
       "      <td>no</td>\n",
       "      <td>10685</td>\n",
       "      <td>yes</td>\n",
       "      <td>no</td>\n",
       "      <td>cellular</td>\n",
       "      <td>25</td>\n",
       "      <td>jul</td>\n",
       "      <td>1369</td>\n",
       "      <td>9</td>\n",
       "      <td>-1</td>\n",
       "      <td>0</td>\n",
       "      <td>unknown</td>\n",
       "      <td>yes</td>\n",
       "    </tr>\n",
       "    <tr>\n",
       "      <th>22849</th>\n",
       "      <td>40</td>\n",
       "      <td>management</td>\n",
       "      <td>married</td>\n",
       "      <td>tertiary</td>\n",
       "      <td>no</td>\n",
       "      <td>24450</td>\n",
       "      <td>no</td>\n",
       "      <td>no</td>\n",
       "      <td>cellular</td>\n",
       "      <td>25</td>\n",
       "      <td>aug</td>\n",
       "      <td>73</td>\n",
       "      <td>2</td>\n",
       "      <td>-1</td>\n",
       "      <td>0</td>\n",
       "      <td>unknown</td>\n",
       "      <td>no</td>\n",
       "    </tr>\n",
       "    <tr>\n",
       "      <th>31416</th>\n",
       "      <td>58</td>\n",
       "      <td>management</td>\n",
       "      <td>married</td>\n",
       "      <td>tertiary</td>\n",
       "      <td>no</td>\n",
       "      <td>1384</td>\n",
       "      <td>yes</td>\n",
       "      <td>no</td>\n",
       "      <td>cellular</td>\n",
       "      <td>27</td>\n",
       "      <td>mar</td>\n",
       "      <td>342</td>\n",
       "      <td>1</td>\n",
       "      <td>-1</td>\n",
       "      <td>0</td>\n",
       "      <td>unknown</td>\n",
       "      <td>yes</td>\n",
       "    </tr>\n",
       "    <tr>\n",
       "      <th>29379</th>\n",
       "      <td>37</td>\n",
       "      <td>admin.</td>\n",
       "      <td>married</td>\n",
       "      <td>secondary</td>\n",
       "      <td>no</td>\n",
       "      <td>2254</td>\n",
       "      <td>no</td>\n",
       "      <td>no</td>\n",
       "      <td>telephone</td>\n",
       "      <td>2</td>\n",
       "      <td>feb</td>\n",
       "      <td>233</td>\n",
       "      <td>2</td>\n",
       "      <td>-1</td>\n",
       "      <td>0</td>\n",
       "      <td>unknown</td>\n",
       "      <td>no</td>\n",
       "    </tr>\n",
       "    <tr>\n",
       "      <th>20976</th>\n",
       "      <td>58</td>\n",
       "      <td>retired</td>\n",
       "      <td>married</td>\n",
       "      <td>secondary</td>\n",
       "      <td>no</td>\n",
       "      <td>2553</td>\n",
       "      <td>no</td>\n",
       "      <td>no</td>\n",
       "      <td>cellular</td>\n",
       "      <td>14</td>\n",
       "      <td>aug</td>\n",
       "      <td>366</td>\n",
       "      <td>2</td>\n",
       "      <td>-1</td>\n",
       "      <td>0</td>\n",
       "      <td>unknown</td>\n",
       "      <td>no</td>\n",
       "    </tr>\n",
       "  </tbody>\n",
       "</table>\n",
       "</div>"
      ],
      "text/plain": [
       "       age         job  marital  education default  balance housing loan  \\\n",
       "17130   39  technician  married  secondary      no    10685     yes   no   \n",
       "22849   40  management  married   tertiary      no    24450      no   no   \n",
       "31416   58  management  married   tertiary      no     1384     yes   no   \n",
       "29379   37      admin.  married  secondary      no     2254      no   no   \n",
       "20976   58     retired  married  secondary      no     2553      no   no   \n",
       "\n",
       "         contact  day month  duration  campaign  pdays  previous poutcome    y  \n",
       "17130   cellular   25   jul      1369         9     -1         0  unknown  yes  \n",
       "22849   cellular   25   aug        73         2     -1         0  unknown   no  \n",
       "31416   cellular   27   mar       342         1     -1         0  unknown  yes  \n",
       "29379  telephone    2   feb       233         2     -1         0  unknown   no  \n",
       "20976   cellular   14   aug       366         2     -1         0  unknown   no  "
      ]
     },
     "execution_count": 91,
     "metadata": {},
     "output_type": "execute_result"
    }
   ],
   "source": [
    "# Basic Settings\n",
    "csv_folder_name = \"bank_marketing\"  # please, change the folder name where the CSV files are stored **if need be**\n",
    "notebook_location = \"C:\\\\Users\\\\caiov\\\\OneDrive - UCLA IT Services\\\\Documentos\\\\DataScience\\\\Datasets\" # set the location where this notebook is saved\n",
    "csv_folder_path = notebook_location + \"\\\\\" + csv_folder_name  # set path for the CSV files\n",
    "os.chdir(csv_folder_path)                                     # set location of CSV files\n",
    "\n",
    "# Save cvs data on a pandas dataframe\n",
    "df = pd.read_csv(\"bank-full-case.csv\", sep = \";\", skipinitialspace = True) #skip space after delimiter\n",
    "\n",
    "# Save a copy of the dataframe\n",
    "data = df.copy()\n",
    "\n",
    "# Basic Formatting\n",
    "data.name = \"Bank Term Deposit Dataset\" # rename the dataset \n",
    "cols = data.columns;                    # create an index list with features names\n",
    "\n",
    "# Quick overview of a sample from the data\n",
    "data.sample(5)"
   ]
  },
  {
   "cell_type": "markdown",
   "metadata": {},
   "source": [
    "### Features\n",
    "\n",
    "**Target**\n",
    "* y (target): has the client subscribed a term deposit? (binary:\"yes\",\"no\")\n",
    "\n",
    "**Demographics / Client Data**\n",
    "* age                                        (numeric)\n",
    "* job:      type of job                      (categorical:admin.','bluecollar','entrepreneur','housemaid','management','retired','self-employed','services','student','technician','unemployed','unknown')\n",
    "* marital:  marital status                   (categorical:'divorced','married','single'; note: 'divorced' means divorced or widowed)\n",
    "* education                                  (categorical: 'primary','secondary','tertiary','unknown')\n",
    "* default:  has credit in default?           (categorical: 'no','yes')\n",
    "* balance:  average yearly balance, in euros (numeric)\n",
    "* housing:  has housing loan?                (categorical: 'no','yes')\n",
    "* loan:     has personal loan?               (categorical: 'no','yes') \n",
    "\n",
    "**Related to Current Marketing Campaign**\n",
    "* contact:  contact communication type                                            (categorical:'cellular','telephone','unknown')\n",
    "* campaign: number of contacts performed during this campaign and for this client (numeric, includes last contact)\n",
    "* day:      last contact day of the month                                         (numeric 1 -31)\n",
    "* month:    last contact month of year                                            (categorical: 'jan', 'feb','mar', …, 'nov', 'dec')\n",
    "* duration: last contact duration, in seconds                                     (numeric). \n",
    "    Important note: this attribute highly affects the output target (e.g., ifduration = 0 then y = 'no'). Yet, the duration is not known before a call is performed. Also, after the end of the call y is obviously known.Thus, this input should only be included for benchmark purposes and should be discarded if the intention is to have a realistic predictive model.\n",
    "\n",
    "**Related to Previous Marketing Campaigns**\n",
    "* pdays:    number of days that passed by after the client was last contacted from a previous campaign (numeric; -1 means client was not previously contacted)\n",
    "* previous: number of contacts performed before this campaign and for this client                      (numeric)\n",
    "* poutcome: outcome of the previous marketing campaign                                                 (categorical: 'failure','other','success','unknown')"
   ]
  },
  {
   "cell_type": "markdown",
   "metadata": {},
   "source": [
    "## Exploratory Data Analysis\n",
    "\n",
    "### Shape and Size"
   ]
  },
  {
   "cell_type": "code",
   "execution_count": 92,
   "metadata": {},
   "outputs": [
    {
     "name": "stdout",
     "output_type": "stream",
     "text": [
      "Dataset shape: 45211 observations and 17 features.\n",
      "This dataset has a total of: 768587 entries.\n"
     ]
    }
   ],
   "source": [
    "# Check Shape and Size\n",
    "print(\"Dataset shape: \" + str(data.shape[0]) + \" observations and \" + str(data.shape[1]) + \" features.\")\n",
    "print(\"This dataset has a total of: \" + str(data.size) + \" entries.\")"
   ]
  },
  {
   "cell_type": "markdown",
   "metadata": {},
   "source": [
    "### Types"
   ]
  },
  {
   "cell_type": "code",
   "execution_count": 93,
   "metadata": {},
   "outputs": [
    {
     "name": "stdout",
     "output_type": "stream",
     "text": [
      "Bank Term Deposit Dataset\n",
      "--------------------------------------\n",
      "<class 'pandas.core.frame.DataFrame'>\n",
      "RangeIndex: 45211 entries, 0 to 45210\n",
      "Data columns (total 17 columns):\n",
      " #   Column     Non-Null Count  Dtype \n",
      "---  ------     --------------  ----- \n",
      " 0   age        45211 non-null  int64 \n",
      " 1   job        45211 non-null  object\n",
      " 2   marital    45211 non-null  object\n",
      " 3   education  45211 non-null  object\n",
      " 4   default    45211 non-null  object\n",
      " 5   balance    45211 non-null  int64 \n",
      " 6   housing    45211 non-null  object\n",
      " 7   loan       45211 non-null  object\n",
      " 8   contact    45211 non-null  object\n",
      " 9   day        45211 non-null  int64 \n",
      " 10  month      45211 non-null  object\n",
      " 11  duration   45211 non-null  int64 \n",
      " 12  campaign   45211 non-null  int64 \n",
      " 13  pdays      45211 non-null  int64 \n",
      " 14  previous   45211 non-null  int64 \n",
      " 15  poutcome   45211 non-null  object\n",
      " 16  y          45211 non-null  object\n",
      "dtypes: int64(7), object(10)\n",
      "memory usage: 5.9+ MB\n",
      "--------------------------------------\n"
     ]
    }
   ],
   "source": [
    "# Check data types\n",
    "print(data.name)\n",
    "print(\"--------------------------------------\")\n",
    "\n",
    "data.info() # get summary of dataset types\n",
    "print(\"--------------------------------------\")"
   ]
  },
  {
   "cell_type": "markdown",
   "metadata": {},
   "source": [
    "All features have the expected type. \n",
    "\n",
    "Notice that all non-null counts are the same, so the dataset does not seem to have missing values of the form N/A. Thus, there is not much to do related to numeric (or continuous) features. However, for categorical variables, it is important to check whether their entries, which are interpreted as _categories_. For that, we will look into _Unique values_."
   ]
  },
  {
   "cell_type": "markdown",
   "metadata": {},
   "source": [
    "### Unique Values (a closer look into categorical variables)"
   ]
  },
  {
   "cell_type": "code",
   "execution_count": 94,
   "metadata": {},
   "outputs": [
    {
     "name": "stdout",
     "output_type": "stream",
     "text": [
      "Unique values in job are ['management' 'technician' 'entrepreneur' 'blue-collar' 'unknown'\n",
      " 'retired' 'admin.' 'services' 'self-employed' 'unemployed' 'housemaid'\n",
      " 'student']\n",
      "----------------------------------------------------------------------------------------------------\n",
      "Unique values in marital are ['married' 'single' 'divorced']\n",
      "----------------------------------------------------------------------------------------------------\n",
      "Unique values in education are ['tertiary' 'secondary' 'unknown' 'primary']\n",
      "----------------------------------------------------------------------------------------------------\n",
      "Unique values in default are ['no' 'yes']\n",
      "----------------------------------------------------------------------------------------------------\n",
      "Unique values in housing are ['yes' 'no']\n",
      "----------------------------------------------------------------------------------------------------\n",
      "Unique values in loan are ['no' 'yes']\n",
      "----------------------------------------------------------------------------------------------------\n",
      "Unique values in contact are ['unknown' 'cellular' 'telephone']\n",
      "----------------------------------------------------------------------------------------------------\n",
      "Unique values in month are ['may' 'jun' 'jul' 'aug' 'oct' 'nov' 'dec' 'jan' 'feb' 'mar' 'apr' 'sep']\n",
      "----------------------------------------------------------------------------------------------------\n",
      "Unique values in poutcome are ['unknown' 'failure' 'other' 'success']\n",
      "----------------------------------------------------------------------------------------------------\n",
      "Unique values in y are ['no' 'yes']\n",
      "----------------------------------------------------------------------------------------------------\n",
      "Columns with missing values set as 'unknown':\n"
     ]
    },
    {
     "data": {
      "text/plain": [
       "['job', 'education', 'contact', 'poutcome']"
      ]
     },
     "execution_count": 94,
     "metadata": {},
     "output_type": "execute_result"
    }
   ],
   "source": [
    "# Check for unique values into caterogical variables\n",
    "\n",
    "def unique_val(data):                                             # define a function (output: unique values in the categorical variables)\n",
    "    for i in cols:                                                # cols is the list of features from this dataset defined in the \"Importing the Dataset\" section above\n",
    "        if data[i].dtype == 'O':                                  # check whether features are categorical variables. 'O' stand for object type.\n",
    "            print('Unique values in', i, 'are', data[i].unique()) # calls function unique() to find get unique values\n",
    "            print('----------------------------------------------------------------------------------------------------')\n",
    "unique_val(data)                                                  # calls the function\n",
    "\n",
    "print(\"Columns with missing values set as 'unknown':\")\n",
    "cols[                       # uses the list of columns 'cols' and subsets it to the condition we want\n",
    "    (df == 'unknown')       # makes a boolean with True/False \n",
    "    .any(axis = 0)          # returns false unless there is at least one element metting the condition withing a series or along a df axis\n",
    "].to_list()                 # return a list of the values"
   ]
  },
  {
   "cell_type": "markdown",
   "metadata": {},
   "source": [
    "All categorical features have the expected categories.\n",
    "However, we do see some 'unknown' values in the data for the following categories: _job, education, contact, and poutcome_. \n",
    "\n",
    "This could be interpreted as missing values that were treated by imputation. It would be interest to see how 'unknown' values are related to the variation within the data. We will comment this below."
   ]
  },
  {
   "cell_type": "markdown",
   "metadata": {},
   "source": [
    "### Missing Values"
   ]
  },
  {
   "cell_type": "code",
   "execution_count": 95,
   "metadata": {},
   "outputs": [
    {
     "name": "stdout",
     "output_type": "stream",
     "text": [
      "Checking for missing values in the Bank Term Deposit Dataset\n",
      "------------------------------------------------------------\n",
      "age          0\n",
      "job          0\n",
      "marital      0\n",
      "education    0\n",
      "default      0\n",
      "balance      0\n",
      "housing      0\n",
      "loan         0\n",
      "contact      0\n",
      "day          0\n",
      "month        0\n",
      "duration     0\n",
      "campaign     0\n",
      "pdays        0\n",
      "previous     0\n",
      "poutcome     0\n",
      "y            0\n",
      "dtype: int64\n",
      "------------------------------------------------------------\n"
     ]
    }
   ],
   "source": [
    "print('Checking for missing values in the', data.name)\n",
    "print('------------------------------------------------------------')\n",
    "print(data.isnull().sum())\n",
    "print('------------------------------------------------------------')"
   ]
  },
  {
   "cell_type": "markdown",
   "metadata": {},
   "source": [
    "As we noticed, the standard missing value function cannot help us visualize missing data because missing values did not come as N/A, but as 'unknown'. Thus, we have to find ways to deal with the 'unknown' values.\n",
    "\n",
    "Usually, one of the following is performed to handle missing values:\n",
    "* Dropping observations or features.\n",
    "* Imputation via values: filling missing data with some statistic (e.g.: mean, median) or some value (e.g.: 'unknown').\n",
    "* Imputation via prediction model.\n",
    "\n",
    "In this dataset, there is no missing values in the N/A format. However, as we just saw above, some missing values are treated as 'unknown' values.\n",
    "It is important to check whether missing information (in this case, the 'unknown') has any statistically relevant association with the outcome we want to predict. \n",
    "\n",
    "However, given the timeframe, I will skip this part."
   ]
  },
  {
   "cell_type": "markdown",
   "metadata": {},
   "source": [
    "### Units Conversion\n",
    "\n",
    "There is no need to convert units in the given features."
   ]
  },
  {
   "cell_type": "markdown",
   "metadata": {},
   "source": [
    "### Overview - Continuous and Categorial Features"
   ]
  },
  {
   "cell_type": "code",
   "execution_count": 96,
   "metadata": {},
   "outputs": [
    {
     "data": {
      "text/html": [
       "<div>\n",
       "<style scoped>\n",
       "    .dataframe tbody tr th:only-of-type {\n",
       "        vertical-align: middle;\n",
       "    }\n",
       "\n",
       "    .dataframe tbody tr th {\n",
       "        vertical-align: top;\n",
       "    }\n",
       "\n",
       "    .dataframe thead th {\n",
       "        text-align: right;\n",
       "    }\n",
       "</style>\n",
       "<table border=\"1\" class=\"dataframe\">\n",
       "  <thead>\n",
       "    <tr style=\"text-align: right;\">\n",
       "      <th></th>\n",
       "      <th>age</th>\n",
       "      <th>balance</th>\n",
       "      <th>day</th>\n",
       "      <th>duration</th>\n",
       "      <th>campaign</th>\n",
       "      <th>pdays</th>\n",
       "      <th>previous</th>\n",
       "    </tr>\n",
       "  </thead>\n",
       "  <tbody>\n",
       "    <tr>\n",
       "      <th>19794</th>\n",
       "      <td>52</td>\n",
       "      <td>1493</td>\n",
       "      <td>8</td>\n",
       "      <td>94</td>\n",
       "      <td>2</td>\n",
       "      <td>-1</td>\n",
       "      <td>0</td>\n",
       "    </tr>\n",
       "    <tr>\n",
       "      <th>1927</th>\n",
       "      <td>37</td>\n",
       "      <td>223</td>\n",
       "      <td>9</td>\n",
       "      <td>175</td>\n",
       "      <td>2</td>\n",
       "      <td>-1</td>\n",
       "      <td>0</td>\n",
       "    </tr>\n",
       "    <tr>\n",
       "      <th>38904</th>\n",
       "      <td>29</td>\n",
       "      <td>4210</td>\n",
       "      <td>18</td>\n",
       "      <td>119</td>\n",
       "      <td>1</td>\n",
       "      <td>-1</td>\n",
       "      <td>0</td>\n",
       "    </tr>\n",
       "    <tr>\n",
       "      <th>25640</th>\n",
       "      <td>51</td>\n",
       "      <td>-637</td>\n",
       "      <td>19</td>\n",
       "      <td>233</td>\n",
       "      <td>2</td>\n",
       "      <td>-1</td>\n",
       "      <td>0</td>\n",
       "    </tr>\n",
       "    <tr>\n",
       "      <th>41504</th>\n",
       "      <td>57</td>\n",
       "      <td>0</td>\n",
       "      <td>9</td>\n",
       "      <td>121</td>\n",
       "      <td>2</td>\n",
       "      <td>-1</td>\n",
       "      <td>0</td>\n",
       "    </tr>\n",
       "  </tbody>\n",
       "</table>\n",
       "</div>"
      ],
      "text/plain": [
       "       age  balance  day  duration  campaign  pdays  previous\n",
       "19794   52     1493    8        94         2     -1         0\n",
       "1927    37      223    9       175         2     -1         0\n",
       "38904   29     4210   18       119         1     -1         0\n",
       "25640   51     -637   19       233         2     -1         0\n",
       "41504   57        0    9       121         2     -1         0"
      ]
     },
     "execution_count": 96,
     "metadata": {},
     "output_type": "execute_result"
    }
   ],
   "source": [
    "# Save continuous dataset into a new dataset for later use\n",
    "cont_data = data.select_dtypes(include = 'number')\n",
    "cont_data.sample(5)\n"
   ]
  },
  {
   "cell_type": "code",
   "execution_count": 97,
   "metadata": {},
   "outputs": [
    {
     "data": {
      "text/html": [
       "<div>\n",
       "<style scoped>\n",
       "    .dataframe tbody tr th:only-of-type {\n",
       "        vertical-align: middle;\n",
       "    }\n",
       "\n",
       "    .dataframe tbody tr th {\n",
       "        vertical-align: top;\n",
       "    }\n",
       "\n",
       "    .dataframe thead th {\n",
       "        text-align: right;\n",
       "    }\n",
       "</style>\n",
       "<table border=\"1\" class=\"dataframe\">\n",
       "  <thead>\n",
       "    <tr style=\"text-align: right;\">\n",
       "      <th></th>\n",
       "      <th>job</th>\n",
       "      <th>marital</th>\n",
       "      <th>education</th>\n",
       "      <th>default</th>\n",
       "      <th>housing</th>\n",
       "      <th>loan</th>\n",
       "      <th>contact</th>\n",
       "      <th>month</th>\n",
       "      <th>poutcome</th>\n",
       "      <th>y</th>\n",
       "    </tr>\n",
       "  </thead>\n",
       "  <tbody>\n",
       "    <tr>\n",
       "      <th>43632</th>\n",
       "      <td>blue-collar</td>\n",
       "      <td>single</td>\n",
       "      <td>secondary</td>\n",
       "      <td>no</td>\n",
       "      <td>no</td>\n",
       "      <td>no</td>\n",
       "      <td>telephone</td>\n",
       "      <td>may</td>\n",
       "      <td>failure</td>\n",
       "      <td>no</td>\n",
       "    </tr>\n",
       "    <tr>\n",
       "      <th>3293</th>\n",
       "      <td>entrepreneur</td>\n",
       "      <td>married</td>\n",
       "      <td>secondary</td>\n",
       "      <td>no</td>\n",
       "      <td>yes</td>\n",
       "      <td>no</td>\n",
       "      <td>unknown</td>\n",
       "      <td>may</td>\n",
       "      <td>unknown</td>\n",
       "      <td>no</td>\n",
       "    </tr>\n",
       "    <tr>\n",
       "      <th>12516</th>\n",
       "      <td>services</td>\n",
       "      <td>married</td>\n",
       "      <td>secondary</td>\n",
       "      <td>no</td>\n",
       "      <td>no</td>\n",
       "      <td>yes</td>\n",
       "      <td>unknown</td>\n",
       "      <td>jul</td>\n",
       "      <td>unknown</td>\n",
       "      <td>no</td>\n",
       "    </tr>\n",
       "    <tr>\n",
       "      <th>34385</th>\n",
       "      <td>student</td>\n",
       "      <td>single</td>\n",
       "      <td>secondary</td>\n",
       "      <td>no</td>\n",
       "      <td>no</td>\n",
       "      <td>no</td>\n",
       "      <td>telephone</td>\n",
       "      <td>may</td>\n",
       "      <td>unknown</td>\n",
       "      <td>no</td>\n",
       "    </tr>\n",
       "    <tr>\n",
       "      <th>24613</th>\n",
       "      <td>management</td>\n",
       "      <td>married</td>\n",
       "      <td>tertiary</td>\n",
       "      <td>no</td>\n",
       "      <td>yes</td>\n",
       "      <td>no</td>\n",
       "      <td>telephone</td>\n",
       "      <td>nov</td>\n",
       "      <td>unknown</td>\n",
       "      <td>no</td>\n",
       "    </tr>\n",
       "  </tbody>\n",
       "</table>\n",
       "</div>"
      ],
      "text/plain": [
       "                job  marital  education default housing loan    contact month  \\\n",
       "43632   blue-collar   single  secondary      no      no   no  telephone   may   \n",
       "3293   entrepreneur  married  secondary      no     yes   no    unknown   may   \n",
       "12516      services  married  secondary      no      no  yes    unknown   jul   \n",
       "34385       student   single  secondary      no      no   no  telephone   may   \n",
       "24613    management  married   tertiary      no     yes   no  telephone   nov   \n",
       "\n",
       "      poutcome   y  \n",
       "43632  failure  no  \n",
       "3293   unknown  no  \n",
       "12516  unknown  no  \n",
       "34385  unknown  no  \n",
       "24613  unknown  no  "
      ]
     },
     "execution_count": 97,
     "metadata": {},
     "output_type": "execute_result"
    }
   ],
   "source": [
    "# Save categorical dataset into a new dataset for later use\n",
    "cat_data = data.select_dtypes(exclude = 'number')\n",
    "cat_data.sample(5)"
   ]
  },
  {
   "cell_type": "markdown",
   "metadata": {},
   "source": [
    "### Continuous Variables\n",
    "\n",
    "In this section, we will check whether the most important statistics makes sence. We'll check the max and min values. Moreover, we'll look into the summary statistics and check for outliers."
   ]
  },
  {
   "cell_type": "markdown",
   "metadata": {},
   "source": [
    "#### Summary Statistics"
   ]
  },
  {
   "cell_type": "code",
   "execution_count": 98,
   "metadata": {},
   "outputs": [
    {
     "data": {
      "text/html": [
       "<div>\n",
       "<style scoped>\n",
       "    .dataframe tbody tr th:only-of-type {\n",
       "        vertical-align: middle;\n",
       "    }\n",
       "\n",
       "    .dataframe tbody tr th {\n",
       "        vertical-align: top;\n",
       "    }\n",
       "\n",
       "    .dataframe thead th {\n",
       "        text-align: right;\n",
       "    }\n",
       "</style>\n",
       "<table border=\"1\" class=\"dataframe\">\n",
       "  <thead>\n",
       "    <tr style=\"text-align: right;\">\n",
       "      <th></th>\n",
       "      <th>count</th>\n",
       "      <th>mean</th>\n",
       "      <th>std</th>\n",
       "      <th>min</th>\n",
       "      <th>25%</th>\n",
       "      <th>50%</th>\n",
       "      <th>75%</th>\n",
       "      <th>max</th>\n",
       "    </tr>\n",
       "  </thead>\n",
       "  <tbody>\n",
       "    <tr>\n",
       "      <th>age</th>\n",
       "      <td>45211.0</td>\n",
       "      <td>40.936210</td>\n",
       "      <td>10.618762</td>\n",
       "      <td>18.0</td>\n",
       "      <td>33.0</td>\n",
       "      <td>39.0</td>\n",
       "      <td>48.0</td>\n",
       "      <td>95.0</td>\n",
       "    </tr>\n",
       "    <tr>\n",
       "      <th>balance</th>\n",
       "      <td>45211.0</td>\n",
       "      <td>1362.272058</td>\n",
       "      <td>3044.765829</td>\n",
       "      <td>-8019.0</td>\n",
       "      <td>72.0</td>\n",
       "      <td>448.0</td>\n",
       "      <td>1428.0</td>\n",
       "      <td>102127.0</td>\n",
       "    </tr>\n",
       "    <tr>\n",
       "      <th>day</th>\n",
       "      <td>45211.0</td>\n",
       "      <td>15.806419</td>\n",
       "      <td>8.322476</td>\n",
       "      <td>1.0</td>\n",
       "      <td>8.0</td>\n",
       "      <td>16.0</td>\n",
       "      <td>21.0</td>\n",
       "      <td>31.0</td>\n",
       "    </tr>\n",
       "    <tr>\n",
       "      <th>duration</th>\n",
       "      <td>45211.0</td>\n",
       "      <td>258.163080</td>\n",
       "      <td>257.527812</td>\n",
       "      <td>0.0</td>\n",
       "      <td>103.0</td>\n",
       "      <td>180.0</td>\n",
       "      <td>319.0</td>\n",
       "      <td>4918.0</td>\n",
       "    </tr>\n",
       "    <tr>\n",
       "      <th>campaign</th>\n",
       "      <td>45211.0</td>\n",
       "      <td>2.763841</td>\n",
       "      <td>3.098021</td>\n",
       "      <td>1.0</td>\n",
       "      <td>1.0</td>\n",
       "      <td>2.0</td>\n",
       "      <td>3.0</td>\n",
       "      <td>63.0</td>\n",
       "    </tr>\n",
       "    <tr>\n",
       "      <th>pdays</th>\n",
       "      <td>45211.0</td>\n",
       "      <td>40.197828</td>\n",
       "      <td>100.128746</td>\n",
       "      <td>-1.0</td>\n",
       "      <td>-1.0</td>\n",
       "      <td>-1.0</td>\n",
       "      <td>-1.0</td>\n",
       "      <td>871.0</td>\n",
       "    </tr>\n",
       "    <tr>\n",
       "      <th>previous</th>\n",
       "      <td>45211.0</td>\n",
       "      <td>0.580323</td>\n",
       "      <td>2.303441</td>\n",
       "      <td>0.0</td>\n",
       "      <td>0.0</td>\n",
       "      <td>0.0</td>\n",
       "      <td>0.0</td>\n",
       "      <td>275.0</td>\n",
       "    </tr>\n",
       "  </tbody>\n",
       "</table>\n",
       "</div>"
      ],
      "text/plain": [
       "            count         mean          std     min    25%    50%     75%  \\\n",
       "age       45211.0    40.936210    10.618762    18.0   33.0   39.0    48.0   \n",
       "balance   45211.0  1362.272058  3044.765829 -8019.0   72.0  448.0  1428.0   \n",
       "day       45211.0    15.806419     8.322476     1.0    8.0   16.0    21.0   \n",
       "duration  45211.0   258.163080   257.527812     0.0  103.0  180.0   319.0   \n",
       "campaign  45211.0     2.763841     3.098021     1.0    1.0    2.0     3.0   \n",
       "pdays     45211.0    40.197828   100.128746    -1.0   -1.0   -1.0    -1.0   \n",
       "previous  45211.0     0.580323     2.303441     0.0    0.0    0.0     0.0   \n",
       "\n",
       "               max  \n",
       "age           95.0  \n",
       "balance   102127.0  \n",
       "day           31.0  \n",
       "duration    4918.0  \n",
       "campaign      63.0  \n",
       "pdays        871.0  \n",
       "previous     275.0  "
      ]
     },
     "execution_count": 98,
     "metadata": {},
     "output_type": "execute_result"
    }
   ],
   "source": [
    "# Summary Statistics\n",
    "data.describe().T"
   ]
  },
  {
   "cell_type": "markdown",
   "metadata": {},
   "source": [
    "#### Making sense of the data\n",
    "\n",
    "- [Age] Note that the average age of people in this dataset is roughly 41 years old. The median is 39 years old, which means that half of the people with an open account at this bank is less than 39 and half is older. This makes sense, since we can find both older and younger people with an open banck account. Moreover, the percentile 75th is 48 years old, which means that 75% of the people (the majority) are less than 48 years old. Both the min and max values do make sense, because there can be someone very old (95 years old) and someone just starting their adult life (18 years old).\n",
    "- [Balance] Note that 75% of the people have less than 1428 euros in their bank account by the end of the year, on average. Both the min and max values do make sense, because there can be someone very rich (100k euros) and someone with a big debt (-8k euros).\n",
    "- [Day] Everything looks normal for this variable. Note that half of the people we contact last in the first half of the month and the other half in the last half of the month. This could be an interesting feature because maybe some people are more prone to subscribing a term deposit when they are done paying the majority of their household bills.\n",
    "- [Campaign] Note that the average number of contacts performed during this campaign for a specific client is roughly 3 times. However, we do notice that the max number does not make much sense because it would be very strange that someone was contacted 63 times during a campaign. This makes even more sence when 75% of the people were contacted at most 3 times. _This could also be an outlier and could be affecting some statistics such as the mean._\n",
    "- [Pdays] Note that the majority of people (75% of them) were not previously contacted. For those 25% who are left, we see an average of 40 days after the client was last contacted from a previous campaign, with a large variation. This variation can make sense since we are looking into a small portion of the data. Someone was last contacted 871 days after the last campaign. _This could also be an outlier and could be affecting some statistics such as the mean._\n",
    "- [Previous] Note that before this campaign, the majority of people were not contacted. From what is left, less than 1 contact was performed on average per client. Someone was contacted 275 times before this campaign and this seems odd. _This could also be an outlier and could be affecting some statistics such as the mean._"
   ]
  },
  {
   "cell_type": "markdown",
   "metadata": {},
   "source": [
    "#### Outliers detection and treatment\n",
    "\n",
    "Outliers can be found due to variation within the data (i.e., due to an unexpected large variance in a feature) or due to mistakes. Both cases can be dealt with. Let's start looking at the probability distribution of those features and look at their skewness to evaluate possible candidate features for outliers."
   ]
  },
  {
   "cell_type": "code",
   "execution_count": 99,
   "metadata": {},
   "outputs": [
    {
     "data": {
      "image/png": "[encoded data removed]",
      "text/plain": [
       "<Figure size 360x360 with 1 Axes>"
      ]
     },
     "metadata": {
      "needs_background": "light"
     },
     "output_type": "display_data"
    },
    {
     "data": {
      "image/png": "[encoded data removed]",
      "text/plain": [
       "<Figure size 360x360 with 1 Axes>"
      ]
     },
     "metadata": {
      "needs_background": "light"
     },
     "output_type": "display_data"
    },
    {
     "data": {
      "image/png": "[encoded data removed]",
      "text/plain": [
       "<Figure size 360x360 with 1 Axes>"
      ]
     },
     "metadata": {
      "needs_background": "light"
     },
     "output_type": "display_data"
    },
    {
     "data": {
      "image/png": "[encoded data removed]",
      "text/plain": [
       "<Figure size 360x360 with 1 Axes>"
      ]
     },
     "metadata": {
      "needs_background": "light"
     },
     "output_type": "display_data"
    },
    {
     "data": {
      "image/png": "[encoded data removed]",
      "text/plain": [
       "<Figure size 360x360 with 1 Axes>"
      ]
     },
     "metadata": {
      "needs_background": "light"
     },
     "output_type": "display_data"
    },
    {
     "data": {
      "image/png": "[encoded data removed]",
      "text/plain": [
       "<Figure size 360x360 with 1 Axes>"
      ]
     },
     "metadata": {
      "needs_background": "light"
     },
     "output_type": "display_data"
    },
    {
     "data": {
      "image/png": "[encoded data removed]",
      "text/plain": [
       "<Figure size 360x360 with 1 Axes>"
      ]
     },
     "metadata": {
      "needs_background": "light"
     },
     "output_type": "display_data"
    }
   ],
   "source": [
    "# Probability Distributions\n",
    "\n",
    "for i in cont_data:\n",
    "    ax = sns.displot(cont_data[i])\n",
    "    plt.show()"
   ]
  },
  {
   "cell_type": "markdown",
   "metadata": {},
   "source": [
    "Some features are strongly skewed to the right, let's focus on those: are _balance_, _campaign_, _pdays_ and _previous_.\n",
    "\n",
    "Now, let's use boxplots to explore them a bit further.\n",
    "\n",
    "Note that for the pdays features, -1 means that the client was not previously contacted. Thus, since pdays means the number of days that passed by after the client was last contacted from a previous campaign. I will skip this one in light of time."
   ]
  },
  {
   "cell_type": "code",
   "execution_count": 104,
   "metadata": {},
   "outputs": [
    {
     "data": {
      "image/png": "[encoded data removed]",
      "text/plain": [
       "<Figure size 432x288 with 1 Axes>"
      ]
     },
     "metadata": {
      "needs_background": "light"
     },
     "output_type": "display_data"
    },
    {
     "data": {
      "image/png": "[encoded data removed]",
      "text/plain": [
       "<Figure size 432x288 with 1 Axes>"
      ]
     },
     "metadata": {
      "needs_background": "light"
     },
     "output_type": "display_data"
    },
    {
     "data": {
      "image/png": "[encoded data removed]",
      "text/plain": [
       "<Figure size 432x288 with 1 Axes>"
      ]
     },
     "metadata": {
      "needs_background": "light"
     },
     "output_type": "display_data"
    },
    {
     "data": {
      "image/png": "[encoded data removed]",
      "text/plain": [
       "<Figure size 432x288 with 1 Axes>"
      ]
     },
     "metadata": {
      "needs_background": "light"
     },
     "output_type": "display_data"
    }
   ],
   "source": [
    "# Boxplots\n",
    "\n",
    "potential_outliers = ['balance','campaign','pdays','previous']\n",
    "for i in potential_outliers:\n",
    "    ax = sns.boxplot(x = cont_data[i], orient = 'h')\n",
    "    plt.show()"
   ]
  },
  {
   "cell_type": "markdown",
   "metadata": {},
   "source": [
    "There are clearly some outliers in these features. We need to handle those. For that, let's use the Interquartile Range (IQR) Method.\n",
    "\n",
    "Notice that because the right skewedness was the basis for outlier detection, I decided to only use the **upper bound** as a threshold when eliminating outliers.\n",
    "\n",
    "Moreover, instead of dropping observations, I decided to replace them with NaN values (i.e., the default missing value marker on pandas).\n",
    "\n",
    "**Important Note**: For the _previous_ feature: I decided to first get rid of the max value, which is clearly a strong outlier. Then, I will proceed with the IQR method."
   ]
  },
  {
   "cell_type": "code",
   "execution_count": 107,
   "metadata": {},
   "outputs": [
    {
     "name": "stdout",
     "output_type": "stream",
     "text": [
      "column 1: balance\n",
      "------------------------\n",
      "1st quantile =>  72.0\n",
      "3rd quantile =>  1428.0\n",
      "IQR => 1356.0\n",
      "lower_bound => -1962.0\n",
      "upper_bound => 3462.0\n",
      "\n",
      "------------------------\n",
      "column 2: campaign\n",
      "------------------------\n",
      "1st quantile =>  1.0\n",
      "3rd quantile =>  3.0\n",
      "IQR => 2.0\n",
      "lower_bound => -2.0\n",
      "upper_bound => 6.0\n",
      "\n",
      "------------------------\n",
      "column 3: pdays\n",
      "------------------------\n",
      "1st quantile =>  -1.0\n",
      "3rd quantile =>  -1.0\n",
      "IQR => 0.0\n",
      "lower_bound => -1.0\n",
      "upper_bound => -1.0\n",
      "\n",
      "------------------------\n",
      "column 4: previous\n",
      "------------------------\n",
      "1st quantile =>  0.0\n",
      "3rd quantile =>  0.0\n",
      "IQR => 0.0\n",
      "lower_bound => 0.0\n",
      "upper_bound => 0.0\n",
      "\n",
      "------------------------\n"
     ]
    },
    {
     "name": "stderr",
     "output_type": "stream",
     "text": [
      "C:\\Users\\caiov\\AppData\\Local\\Temp/ipykernel_8284/3201319231.py:23: SettingWithCopyWarning: \n",
      "A value is trying to be set on a copy of a slice from a DataFrame\n",
      "\n",
      "See the caveats in the documentation: https://pandas.pydata.org/pandas-docs/stable/user_guide/indexing.html#returning-a-view-versus-a-copy\n",
      "  new_data[col][( (new_data[col] < lower_bound) | (new_data[col] > upper_bound) )] = np.nan\n"
     ]
    }
   ],
   "source": [
    "# IQR Method - Treating Outliers\n",
    "\n",
    "i = 1\n",
    "for col in potential_outliers:\n",
    "    Q1 = cont_data[col].quantile(0.25)\n",
    "    Q3 = cont_data[col].quantile(0.75)\n",
    "    IQR = Q3 - Q1\n",
    "    print(f'column {i}: {cont_data[col].name}\\n------------------------')\n",
    "    print('1st quantile => ',Q1)\n",
    "    print('3rd quantile => ',Q3)\n",
    "    print('IQR =>',IQR)\n",
    "\n",
    "    lower_bound  = Q1-(1.5*IQR)\n",
    "    print('lower_bound => ' + str(lower_bound))\n",
    "\n",
    "    upper_bound = Q3+(1.5*IQR)\n",
    "    print('upper_bound => ' + str(upper_bound))\n",
    "    print(\"\\n------------------------\")\n",
    "    \n",
    "    i = i + 1\n",
    "\n",
    "    #replacing outliers with NaN\n",
    "    new_data[col][( (new_data[col] < lower_bound) | (new_data[col] > upper_bound) )] = np.nan\n",
    "\n",
    "# ## campaign \n",
    "# Q1_campaign = np.percentile(data['campaign'], 25, interpolation = 'midpoint')\n",
    "# Q3_campaign = np.percentile(data['campaign'], 75, interpolation = 'midpoint')\n",
    "\n",
    "# IQR_campaign     = Q3_campaign - Q1_campaign        # compute the IQR\n",
    "# low_lim_campaign = Q1_campaign - 1.5 * IQR_campaign # lower limit\n",
    "# up_lim_campaign  = Q3_campaign + 1.5 * IQR_campaign # upper limit\n",
    "\n",
    "# ## Mark and save outliers in new column\n",
    "# outlier_mask_campaign = (data['campaign'] > up_lim_campaign)       # only for the upper limit due to the strong right skewness of the data\n",
    "# data['Outlier_campaign'] = np.where((outlier_mask_campaign), 1, 0) # if out of IQR threshold, then assign value 1, otherwise 0\n",
    "\n",
    "# ## previous\n",
    "# ### Cutoff at the max value for the previous feature.\n",
    "# outlier_max_previous = (data['previous'] == data['previous'].max()) # cutoff at the unexpected max value\n",
    "\n",
    "# ### iqr\n",
    "# Q1_previous = np.percentile(data['campaign'], 25, interpolation = 'midpoint')\n",
    "# Q3_previous = np.percentile(data['campaign'], 75, interpolation = 'midpoint')\n",
    "\n",
    "# IQR_previous     = Q3_previous - Q1_previous        # compute the IQR\n",
    "# low_lim_previous = Q1_previous - 1.5 * IQR_previous # lower limit\n",
    "# up_lim_previous  = Q3_previous + 1.5 * IQR_previous # upper limit\n",
    "\n",
    "# ### Mark and save outliers in new column\n",
    "# outlier_mask_previous = (data['previous'] > up_lim_previous)                              # only for the upper limit due to the strong right skewness of the data\n",
    "# data['Outlier_previous'] = np.where((outlier_max_previous | outlier_mask_previous), 1, 0) # if out of IQR threshold, then assign value 1, otherwise 0\n",
    "\n",
    "# ## Mark all outliers in new column\n",
    "# is_outlier_campaign = (data['Outlier_campaign'] == 1)\n",
    "# is_outlier_previous = (data['Outlier_previous'] == 1)\n",
    "\n",
    "# data['Outliers'] = np.where((is_outlier_campaign | is_outlier_previous), 1, 0)  # if outlier, then assign value 1, otherwise 0\n",
    "\n",
    "# ## Count Outliers\n",
    "# count_outliers_campaign = data['Outlier_campaign'].sum()\n",
    "# count_outliers_previous = data['Outlier_previous'].sum()\n",
    "# count_all_outliers      = data['Outliers'].sum()\n",
    "\n",
    "# print(\"There are \" + str(count_outliers_campaign) + \" outliers in the campaign feature.\")\n",
    "# print(\"There are \" + str(count_outliers_previous) + \" outliers in the previous feature.\")\n",
    "# print(\"There are a total of \" + str(count_all_outliers) + \" outliers.\")\n"
   ]
  },
  {
   "cell_type": "markdown",
   "metadata": {},
   "source": [
    "Note: All outliers are marked in the respective features. We can proceed with trimming."
   ]
  },
  {
   "cell_type": "code",
   "execution_count": null,
   "metadata": {},
   "outputs": [],
   "source": [
    "# Trimming based on IQR Method\n",
    "\n",
    "new_data = data[data['Outliers'] == 0] # remove all outliers\n",
    "print(\"Old dataset shape: \" + str(data.shape[0])     + \" observations left and same \" + str(data.shape[1])     + \" features.\")\n",
    "print(\"New dataset shape: \" + str(new_data.shape[0]) + \" observations left and same \" + str(new_data.shape[1]) + \" features.\")\n",
    "print(\"All outliers were removed.\")\n",
    "\n",
    "# Drop unecessary columns\n",
    "data     = data.drop(    columns = ['Outliers', 'Outlier_campaign', 'Outlier_previous'])                                                               # save only data without outliers\n",
    "new_data = new_data.drop(columns = ['Outliers', 'Outlier_campaign', 'Outlier_previous'])                                                               # save only data without outliers\n",
    "\n",
    "new_data.describe().T"
   ]
  },
  {
   "cell_type": "markdown",
   "metadata": {},
   "source": [
    "Note that after we removed the potential outliers, we were left only with people who were not contacted before this campaign (maximum value of _previous_ = 0).\n",
    "Moreover, since _pdays_ would show number of days that passed by after the client was last contacted from a previous campaign, it makes sense to only be left with the value -1, which indicates people who were not previously contacted.\n",
    " \n",
    "Now let's plot the data again, but for the only relevant feature left: _campaign_."
   ]
  },
  {
   "cell_type": "code",
   "execution_count": null,
   "metadata": {},
   "outputs": [],
   "source": [
    "# Boxplots & Probability Distribution\n",
    "\n",
    "plt.figure(figsize = (20,10))\n",
    "\n",
    "plt.subplot(2, 2, 1) # 2: both plots on 2 rows / 2: divide both plots into 2 columns / 1: controls the second plot\n",
    "sns.distplot(data['campaign'])\n",
    "plt.xlabel('Campaign - With Outliers')\n",
    "\n",
    "plt.subplot(2, 2, 2) # 2: both plots on 2 rows / 2: divide both plots into 2 columns / 2: controls the first plot\n",
    "sns.boxplot(x = data['campaign'], orient = 'h')\n",
    "plt.xlabel('Campaign - With Outliers')\n",
    "\n",
    "plt.subplot(2, 2, 3) # 2: both plots on 2 rows / 2: divide both plots into 2 columns / 3: controls the third plot\n",
    "sns.distplot(new_data['campaign'])\n",
    "plt.xlabel('Campaign - After Removing Outliers')\n",
    "\n",
    "plt.subplot(2, 2, 4) # 2: both plots on 2 rows / 2: divide both plots into 2 columns / 4: controls the fourth plot\n",
    "sns.boxplot(x = new_data['campaign'], orient = 'h')\n",
    "plt.xlabel('Campaign - After Removing Outliers')\n",
    "\n",
    "plt.show()\n",
    "\n",
    "plt.figure(figsize = (20,10))\n",
    "\n",
    "plt.subplot(2, 2, 1) # 2: both plots on 2 rows / 2: divide both plots into 2 columns / 1: controls the second plot\n",
    "sns.distplot(data['previous'])\n",
    "plt.xlabel('previous - With Outliers')\n",
    "\n",
    "plt.subplot(2, 2, 2) # 2: both plots on 2 rows / 2: divide both plots into 2 columns / 2: controls the first plot\n",
    "sns.boxplot(x = data['previous'], orient = 'h')\n",
    "plt.xlabel('previous - With Outliers')\n",
    "\n",
    "plt.subplot(2, 2, 3) # 2: both plots on 2 rows / 2: divide both plots into 2 columns / 3: controls the third plot\n",
    "sns.distplot(new_data['previous'])\n",
    "plt.xlabel('previous - After Removing Outliers')\n",
    "\n",
    "plt.subplot(2, 2, 4) # 2: both plots on 2 rows / 2: divide both plots into 2 columns / 4: controls the fourth plot\n",
    "sns.boxplot(x = new_data['previous'], orient = 'h')\n",
    "plt.xlabel('previous - After Removing Outliers')\n",
    "\n",
    "plt.show()\n"
   ]
  },
  {
   "cell_type": "markdown",
   "metadata": {},
   "source": [
    "Notice that we have a Multimodal Distribution for both the feature campaign and previous.\n",
    "\n",
    "For the feature _campaign_, the average number of contacts perform during this campaign was 2. Moreover, 75% of the people were contact at most 3 times during this campaign.\n",
    "\n",
    "For the feature _previous_, the average number of contacts performed before this campaign is roughly 0 because 75% of people have not received any contact before this campaign. However, from the 25% left (10k people), some of them were contacted up to 6 times before this campaign. "
   ]
  },
  {
   "cell_type": "markdown",
   "metadata": {},
   "source": [
    "* Summary and Outliers - Categorical Variables"
   ]
  },
  {
   "cell_type": "code",
   "execution_count": null,
   "metadata": {},
   "outputs": [],
   "source": [
    "# Category Distribution (Relative Frequency Distribution)"
   ]
  }
 ],
 "metadata": {
  "interpreter": {
   "hash": "ac7dd041828cf56631353191c608ccde6a0be02c5ac588a2993150c1410b91d4"
  },
  "kernelspec": {
   "display_name": "Python 3.9.7 ('base')",
   "language": "python",
   "name": "python3"
  },
  "language_info": {
   "codemirror_mode": {
    "name": "ipython",
    "version": 3
   },
   "file_extension": ".py",
   "mimetype": "text/x-python",
   "name": "python",
   "nbconvert_exporter": "python",
   "pygments_lexer": "ipython3",
   "version": "3.9.7"
  },
  "orig_nbformat": 4
 },
 "nbformat": 4,
 "nbformat_minor": 2
}
