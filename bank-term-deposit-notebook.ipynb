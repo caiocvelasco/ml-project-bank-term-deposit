{
 "cells": [
  {
   "cell_type": "markdown",
   "metadata": {},
   "source": [
    "# Term Deposit Predictive ML Model"
   ]
  },
  {
   "cell_type": "markdown",
   "metadata": {},
   "source": [
    "## Contents\n",
    "\n",
    "* About\n",
    "    * Project Development\n",
    "    * Problem Definition\n",
    "    * Possible Hypotheses\n",
    "    * Objective\n",
    "* Data\n",
    "    * Libraries\n",
    "    * Importing\n",
    "    * Variables\n",
    "* Exploratory Data Analysis (EDA)\n",
    "    * Plotting Objectives\n",
    "    * Functions\n",
    "    * Shape and Size\n",
    "    * Types\n",
    "    * Unique Values\n",
    "    * Missing Values\n",
    "    * Units Conversion\n",
    "    * Continuous and Categorical Variables\n",
    "        * Continuous Variables\n",
    "            * Summary statistics\n",
    "            * Probability Distribution\n",
    "            * Making Sense of the (Continuous) Data\n",
    "        * Categorical Variables\n",
    "            * Bar Plots\n",
    "* Feature Engineering\n",
    "    * Units Conversion\n",
    "    * Continuous Variables\n",
    "        * Feature Scaling - Standardization (or Z-score Normalization)\n",
    "        * Outliers Detection and Treatment\n",
    "    * Categorical Variables\n",
    "        * Label Encoding\n",
    "* Feature Selection\n",
    "    * Inferential Statistics and Hypothesis Testing\n",
    "    * Feature Importance\n",
    "    * Correlation Matrix Heatmap\n",
    "* Model Training\n",
    "* Model Evaluation\n",
    "* Class Imbalance ???"
   ]
  },
  {
   "cell_type": "markdown",
   "metadata": {},
   "source": [
    "## About\n",
    "\n",
    "### Project Development\n",
    "This project was developed locally with Visual Studio Code and GitHub version control.\n",
    "\n",
    "Please check this project @ [GitHub page](https://caiocvelasco.github.io/) or @ [GitHub Repository](https://github.com/caiocvelasco/ml-project-bank-term-deposit/blob/4f1bfa72d17cefdfe2a515054f1f2cfffa3c7749/bank-term-deposit-notebook.ipynb).\n",
    "\n",
    "### Problem Definition\n",
    "\n",
    "A bank would like to understand the main factors driving customers to subscribe a Term Deposit.\n",
    "\n",
    "### Possible Hypotheses\n",
    "1. I would expect \n",
    "\n",
    "### Objective\n",
    "Our goal is to build a classifier (supervised machine Learning model) to predict whether customers would subscribe a Term Deposit. In case we find high accuracy in our model, it would imply that the bank marketing department could benefit from an efficient use of available resources by focusing on the \"right\" customers (given by our _classifier_). Moreover, we want to understand which other factors might also affect customers' decision.\n",
    "\n",
    "* Recall: Classification Model\n",
    "\n",
    "    The goal of a classification model is to build a data-driven model that learns an unknown underlying function that maps several input variables, which characterize an item (e.g., bank client, with one labeled output target (e.g., type of bank deposit sell: “failure” or “success”). \n",
    "    _[Moro et al., 2014] S. Moro, P. Cortez and P. Rita. A Data-Driven Approach to Predict the Success of Bank Telemarketing. Decision Support Systems, Elsevier, 62:22-31, June 2014_"
   ]
  },
  {
   "cell_type": "markdown",
   "metadata": {},
   "source": [
    "## Data\n",
    "Data was already available on a _csv_ format. So I'll skip this section.\n",
    "\n",
    "### Libraries"
   ]
  },
  {
   "cell_type": "code",
   "execution_count": 11,
   "metadata": {},
   "outputs": [],
   "source": [
    "# !pip install seaborn pandas matplotlib numpy\n",
    "import pandas as pd              # for data analysis\n",
    "import numpy as np               # for scientific computing\n",
    "import os                        # for file interactions in the user's operating system\n",
    "import warnings                  # for dealing with warning messages if need be\n",
    "warnings.filterwarnings('ignore')\n",
    "\n",
    "import matplotlib.pyplot as plt  # for data visualization\n",
    "import matplotlib as mpl\n",
    "import seaborn as sns            # for data visualization"
   ]
  },
  {
   "cell_type": "markdown",
   "metadata": {},
   "source": [
    "### Importing\n",
    "\n",
    "* [_Brief Note_]   It is important to import only the data we need to save up time and space. However, this dataset already contains the features we need, so I will skip that.\n",
    "* [_Independence_] This notebook can be downloaded and saved anywhere in your computer (one needs only to change the name of the folder where the CVS files are located).\n",
    "* [_Automation_]   Any dataset saved in the designated folder will be stored automatically.\n",
    "* [Stacking]       If there is a need to combine (or stack) multiple CSV files, please read the _extra_ below.\n",
    "\n",
    "Extra - Multiple CSV files\n",
    "* If there is a need to stack (or combine) multiple CSV files based on a matching _filename_ pattern, please check one of my [repositories](https://github.com/caiocvelasco/stack-combine-multiple-csv-files/blob/7854a473046e4dc5876bcf8caa69b4b3d16dc7e1/stack-combine-multiple-csv-files.ipynb). There, you'll find a code to perform this task automatically under the following assumption: the stored CSV files have the same features."
   ]
  },
  {
   "cell_type": "code",
   "execution_count": 12,
   "metadata": {},
   "outputs": [
    {
     "data": {
      "text/html": [
       "<div>\n",
       "<style scoped>\n",
       "    .dataframe tbody tr th:only-of-type {\n",
       "        vertical-align: middle;\n",
       "    }\n",
       "\n",
       "    .dataframe tbody tr th {\n",
       "        vertical-align: top;\n",
       "    }\n",
       "\n",
       "    .dataframe thead th {\n",
       "        text-align: right;\n",
       "    }\n",
       "</style>\n",
       "<table border=\"1\" class=\"dataframe\">\n",
       "  <thead>\n",
       "    <tr style=\"text-align: right;\">\n",
       "      <th></th>\n",
       "      <th>age</th>\n",
       "      <th>job</th>\n",
       "      <th>marital</th>\n",
       "      <th>education</th>\n",
       "      <th>default</th>\n",
       "      <th>balance</th>\n",
       "      <th>housing</th>\n",
       "      <th>loan</th>\n",
       "      <th>contact</th>\n",
       "      <th>day</th>\n",
       "      <th>month</th>\n",
       "      <th>duration</th>\n",
       "      <th>campaign</th>\n",
       "      <th>pdays</th>\n",
       "      <th>previous</th>\n",
       "      <th>poutcome</th>\n",
       "      <th>y</th>\n",
       "    </tr>\n",
       "  </thead>\n",
       "  <tbody>\n",
       "    <tr>\n",
       "      <th>1598</th>\n",
       "      <td>58</td>\n",
       "      <td>management</td>\n",
       "      <td>married</td>\n",
       "      <td>secondary</td>\n",
       "      <td>no</td>\n",
       "      <td>771</td>\n",
       "      <td>no</td>\n",
       "      <td>no</td>\n",
       "      <td>unknown</td>\n",
       "      <td>8</td>\n",
       "      <td>may</td>\n",
       "      <td>126</td>\n",
       "      <td>3</td>\n",
       "      <td>-1</td>\n",
       "      <td>0</td>\n",
       "      <td>unknown</td>\n",
       "      <td>no</td>\n",
       "    </tr>\n",
       "    <tr>\n",
       "      <th>24273</th>\n",
       "      <td>43</td>\n",
       "      <td>management</td>\n",
       "      <td>married</td>\n",
       "      <td>tertiary</td>\n",
       "      <td>no</td>\n",
       "      <td>0</td>\n",
       "      <td>yes</td>\n",
       "      <td>no</td>\n",
       "      <td>cellular</td>\n",
       "      <td>17</td>\n",
       "      <td>nov</td>\n",
       "      <td>110</td>\n",
       "      <td>1</td>\n",
       "      <td>-1</td>\n",
       "      <td>0</td>\n",
       "      <td>unknown</td>\n",
       "      <td>no</td>\n",
       "    </tr>\n",
       "    <tr>\n",
       "      <th>1922</th>\n",
       "      <td>30</td>\n",
       "      <td>technician</td>\n",
       "      <td>single</td>\n",
       "      <td>tertiary</td>\n",
       "      <td>no</td>\n",
       "      <td>2530</td>\n",
       "      <td>yes</td>\n",
       "      <td>no</td>\n",
       "      <td>unknown</td>\n",
       "      <td>9</td>\n",
       "      <td>may</td>\n",
       "      <td>70</td>\n",
       "      <td>1</td>\n",
       "      <td>-1</td>\n",
       "      <td>0</td>\n",
       "      <td>unknown</td>\n",
       "      <td>no</td>\n",
       "    </tr>\n",
       "    <tr>\n",
       "      <th>17225</th>\n",
       "      <td>59</td>\n",
       "      <td>admin.</td>\n",
       "      <td>married</td>\n",
       "      <td>secondary</td>\n",
       "      <td>no</td>\n",
       "      <td>373</td>\n",
       "      <td>yes</td>\n",
       "      <td>yes</td>\n",
       "      <td>cellular</td>\n",
       "      <td>28</td>\n",
       "      <td>jul</td>\n",
       "      <td>362</td>\n",
       "      <td>7</td>\n",
       "      <td>-1</td>\n",
       "      <td>0</td>\n",
       "      <td>unknown</td>\n",
       "      <td>no</td>\n",
       "    </tr>\n",
       "    <tr>\n",
       "      <th>9450</th>\n",
       "      <td>36</td>\n",
       "      <td>entrepreneur</td>\n",
       "      <td>divorced</td>\n",
       "      <td>tertiary</td>\n",
       "      <td>no</td>\n",
       "      <td>914</td>\n",
       "      <td>no</td>\n",
       "      <td>no</td>\n",
       "      <td>unknown</td>\n",
       "      <td>6</td>\n",
       "      <td>jun</td>\n",
       "      <td>219</td>\n",
       "      <td>1</td>\n",
       "      <td>-1</td>\n",
       "      <td>0</td>\n",
       "      <td>unknown</td>\n",
       "      <td>no</td>\n",
       "    </tr>\n",
       "  </tbody>\n",
       "</table>\n",
       "</div>"
      ],
      "text/plain": [
       "       age           job   marital  education default  balance housing loan  \\\n",
       "1598    58    management   married  secondary      no      771      no   no   \n",
       "24273   43    management   married   tertiary      no        0     yes   no   \n",
       "1922    30    technician    single   tertiary      no     2530     yes   no   \n",
       "17225   59        admin.   married  secondary      no      373     yes  yes   \n",
       "9450    36  entrepreneur  divorced   tertiary      no      914      no   no   \n",
       "\n",
       "        contact  day month  duration  campaign  pdays  previous poutcome   y  \n",
       "1598    unknown    8   may       126         3     -1         0  unknown  no  \n",
       "24273  cellular   17   nov       110         1     -1         0  unknown  no  \n",
       "1922    unknown    9   may        70         1     -1         0  unknown  no  \n",
       "17225  cellular   28   jul       362         7     -1         0  unknown  no  \n",
       "9450    unknown    6   jun       219         1     -1         0  unknown  no  "
      ]
     },
     "execution_count": 12,
     "metadata": {},
     "output_type": "execute_result"
    }
   ],
   "source": [
    "# Basic Settings\n",
    "csv_folder_name = \"bank_marketing\"  # please, change the folder name where the CSV files are stored **if need be**\n",
    "notebook_location = \"C:\\\\Users\\\\caiov\\\\OneDrive - UCLA IT Services\\\\Documentos\\\\DataScience\\\\Datasets\" # set the location where this notebook is saved\n",
    "csv_folder_path = notebook_location + \"\\\\\" + csv_folder_name  # set path for the CSV files\n",
    "os.chdir(csv_folder_path)                                     # set location of CSV files\n",
    "\n",
    "# Save cvs Data on a Pandas Dataframe\n",
    "df = pd.read_csv(\"bank-full-case.csv\", sep = \";\", skipinitialspace = True) #skip space after delimiter\n",
    "\n",
    "# Save a Copy of the Dataframe\n",
    "data = df.copy()\n",
    "\n",
    "# Dataset Manipulation\n",
    "data.name = \"Bank Term Deposit Dataset\" # rename the dataset \n",
    "cols = data.columns;                    # create an index list with features names\n",
    "\n",
    "# Quick Overview of a Sample from the Data\n",
    "data.sample(5)"
   ]
  },
  {
   "cell_type": "markdown",
   "metadata": {},
   "source": [
    "### Variables\n",
    "\n",
    "Note that so far I have not defined the common terminology used in Machine Learning (e.g.: features, target, etc). For now, we are only presenting the variables present in our dataset.\n",
    "\n",
    "**Outcome**\n",
    "* y (_intended outcome_): has the client subscribed a term deposit? (binary:\"yes\",\"no\")\n",
    "\n",
    "**Demographics / Client Data**\n",
    "* age                                        (numeric)\n",
    "* job:      type of job                      (categorical:admin.','bluecollar','entrepreneur','housemaid','management','retired','self-employed','services','student','technician','unemployed','unknown')\n",
    "* marital:  marital status                   (categorical:'divorced','married','single'; note: 'divorced' means divorced or widowed)\n",
    "* education                                  (categorical: 'primary','secondary','tertiary','unknown')\n",
    "* default:  has credit in default?           (categorical: 'no','yes')\n",
    "* balance:  average yearly balance, in euros (numeric)\n",
    "* housing:  has housing loan?                (categorical: 'no','yes')\n",
    "* loan:     has personal loan?               (categorical: 'no','yes') \n",
    "\n",
    "**Related to Current Marketing Campaign**\n",
    "* contact:  contact communication type                                            (categorical:'cellular','telephone','unknown')\n",
    "* campaign: number of contacts performed during this campaign and for this client (numeric, includes last contact)\n",
    "* day:      last contact day of the month                                         (numeric 1 -31)\n",
    "* month:    last contact month of year                                            (categorical: 'jan', 'feb','mar', …, 'nov', 'dec')\n",
    "* duration: last contact duration, in seconds                                     (numeric). \n",
    "    Important note: this attribute highly affects the output target (e.g., ifduration = 0 then y = 'no'). Yet, the duration is not known before a call is performed. Also, after the end of the call y is obviously known.Thus, this input should only be included for benchmark purposes and should be discarded if the intention is to have a realistic predictive model.\n",
    "\n",
    "**Related to Previous Marketing Campaigns**\n",
    "* pdays:    number of days that passed by after the client was last contacted from a previous campaign (numeric; -1 means client was not previously contacted)\n",
    "* previous: number of contacts performed before this campaign and for this client                      (numeric)\n",
    "* poutcome: outcome of the previous marketing campaign                                                 (categorical: 'failure','other','success','unknown')\n",
    "\n"
   ]
  },
  {
   "cell_type": "markdown",
   "metadata": {},
   "source": [
    "## Exploratory Data Analysis (EDA)"
   ]
  },
  {
   "cell_type": "markdown",
   "metadata": {},
   "source": [
    "### Plotting Objectives\n",
    "This is a Classification Machine Learning Algorithm, thus we should be able to explore and visualize:\n",
    " * Features and their distributions, unidimensionaly\n",
    " * How each features is associated with the target varieble, bidimensionally\n",
    " * How features are associated among themselves, to get rid of possible redundancies"
   ]
  },
  {
   "cell_type": "markdown",
   "metadata": {},
   "source": [
    "### Defining Functions for EDA"
   ]
  },
  {
   "cell_type": "code",
   "execution_count": 13,
   "metadata": {},
   "outputs": [],
   "source": [
    "### ANALYSIS PART ###\n",
    "\n",
    "# Checking Shape\n",
    "def data_shape(data):\n",
    "    print(\"Dataset shape: \" + str(data.shape[0]) + \" observations and \" + str(data.shape[1]) + \" features.\")\n",
    "\n",
    "# Check Size\n",
    "def data_size(data):\n",
    "    print(\"This dataset has a total of: \" + str(data.size) + \" entries.\")\n",
    "\n",
    "# Check Information\n",
    "def data_info(data):\n",
    "    print(data.name)\n",
    "    print(\"--------------------------------------\")\n",
    "    data.info()\n",
    "    print(\"--------------------------------------\")  \n",
    "    \n",
    "# Get Unique Values per categorical variable\n",
    "def unique_values(data):                                             # define a function (output: unique values in the categorical variables)\n",
    "    for i in cols:                                                # cols is the list of features from this dataset defined in the \"Importing the Dataset\" section above\n",
    "        if data[i].dtype == 'O':                                  # check whether features are categorical variables. 'O' stand for object type.\n",
    "            print('Unique values in', i, 'are', data[i].unique()) # calls function unique() to find get unique values\n",
    "            print('----------------------------------------------------------------------------------------------------')\n",
    "\n",
    "# Check for Missing Values\n",
    "def missing_values(data):\n",
    "    print('Checking for missing values in the', data.name)\n",
    "    print('------------------------------------------------------------')\n",
    "    print(data.isnull().sum())\n",
    "    print('------------------------------------------------------------')\n",
    "\n",
    "# Save Data with Continuous Variables only\n",
    "def save_cont_data(data):\n",
    "    cont_data = data.select_dtypes(include = 'number')\n",
    "    return cont_data\n",
    "    \n",
    "# Save Data with Categorical Variables only\n",
    "def save_cat_data(data):\n",
    "    cat_data = data.select_dtypes(exclude = 'number')\n",
    "    return cat_data\n",
    "\n",
    "# IQR Method - Detecting Outliers\n",
    "def iqr_method(potential_outliers, data_copy): #arg 1 takes list of features with potential outliers, arg2 \n",
    "    i = 1\n",
    "    for col in potential_outliers:\n",
    "        Q1 = data_copy[col].quantile(0.25)\n",
    "        Q3 = data_copy[col].quantile(0.75)\n",
    "        IQR = Q3 - Q1\n",
    "        print(f'column {i}: {data_copy[col].name}\\n------------------------')\n",
    "        print('1st quantile => ',Q1)\n",
    "        print('3rd quantile => ',Q3)\n",
    "        print('IQR =>',IQR)\n",
    "\n",
    "        lower_bound  = Q1-(1.5*IQR)\n",
    "        print('lower_bound => ' + str(lower_bound))\n",
    "\n",
    "        upper_bound = Q3+(1.5*IQR)\n",
    "        print('upper_bound => ' + str(upper_bound))\n",
    "        print(\"\\n------------------------\")\n",
    "        \n",
    "        i = i + 1\n",
    "\n",
    "        data_copy[col][((data_copy[col] < lower_bound) | (data_copy[col] > upper_bound))] = np.nan  # replacing outliers with NaN\n",
    "\n",
    "# Standardization Method\n",
    "\n",
    "\n",
    "### VISUALIZATION PART ###\n",
    "\n",
    "# Plot Probability Distributions for Continuous Variables only\n",
    "def pdf_plot_cont(cont_data):\n",
    "    for i in cont_data:\n",
    "        ax = sns.displot(cont_data[i])\n",
    "        plt.show()\n",
    "\n",
    "# Plot Bar Plots for Categorical Variables only (and order by value counts within them)\n",
    "def bar_plot_cat(cat_data):\n",
    "    plt.figure(figsize=(20,4))\n",
    "    for i in cat_data:\n",
    "        ax = sns.countplot(y = cat_data[i], order = cat_data[i].value_counts().index)\n",
    "        plt.show()\n",
    "\n",
    "# Plot Box Plots for Continuous Variables\n",
    "def box_plot(potential_outliers, cont_data): # the first argument takes a list of features and the second the dataset\n",
    "    for i in potential_outliers:\n",
    "        ax = sns.boxplot(x = cont_data[i], orient = 'h')\n",
    "        plt.show()\n"
   ]
  },
  {
   "cell_type": "markdown",
   "metadata": {},
   "source": [
    "### Shape and Size"
   ]
  },
  {
   "cell_type": "code",
   "execution_count": 14,
   "metadata": {},
   "outputs": [
    {
     "name": "stdout",
     "output_type": "stream",
     "text": [
      "Dataset shape: 45211 observations and 17 features.\n",
      "This dataset has a total of: 768587 entries.\n"
     ]
    }
   ],
   "source": [
    "# Check Shape and Size\n",
    "data_shape(data) # calls shape function\n",
    "data_size(data)  # calls size function\n"
   ]
  },
  {
   "cell_type": "markdown",
   "metadata": {},
   "source": [
    "### Types"
   ]
  },
  {
   "cell_type": "code",
   "execution_count": 15,
   "metadata": {},
   "outputs": [
    {
     "name": "stdout",
     "output_type": "stream",
     "text": [
      "Bank Term Deposit Dataset\n",
      "--------------------------------------\n",
      "<class 'pandas.core.frame.DataFrame'>\n",
      "RangeIndex: 45211 entries, 0 to 45210\n",
      "Data columns (total 17 columns):\n",
      " #   Column     Non-Null Count  Dtype \n",
      "---  ------     --------------  ----- \n",
      " 0   age        45211 non-null  int64 \n",
      " 1   job        45211 non-null  object\n",
      " 2   marital    45211 non-null  object\n",
      " 3   education  45211 non-null  object\n",
      " 4   default    45211 non-null  object\n",
      " 5   balance    45211 non-null  int64 \n",
      " 6   housing    45211 non-null  object\n",
      " 7   loan       45211 non-null  object\n",
      " 8   contact    45211 non-null  object\n",
      " 9   day        45211 non-null  int64 \n",
      " 10  month      45211 non-null  object\n",
      " 11  duration   45211 non-null  int64 \n",
      " 12  campaign   45211 non-null  int64 \n",
      " 13  pdays      45211 non-null  int64 \n",
      " 14  previous   45211 non-null  int64 \n",
      " 15  poutcome   45211 non-null  object\n",
      " 16  y          45211 non-null  object\n",
      "dtypes: int64(7), object(10)\n",
      "memory usage: 5.9+ MB\n",
      "--------------------------------------\n"
     ]
    }
   ],
   "source": [
    "# Check Data Type\n",
    "data_info(data) # calls info function"
   ]
  },
  {
   "cell_type": "markdown",
   "metadata": {},
   "source": [
    "All features have the expected type. \n",
    "\n",
    "Notice that all non-null counts are the same, so the dataset does not seem to have missing values of the form N/A. Thus, there is not much to do related to numeric (or continuous) features. However, for categorical variables, it is important to check whether their entries, which are interpreted as _categories_. For that, we will look into _Unique values_."
   ]
  },
  {
   "cell_type": "markdown",
   "metadata": {},
   "source": [
    "### Unique Values\n",
    "Let's take a closer look into categorical variables."
   ]
  },
  {
   "cell_type": "code",
   "execution_count": 16,
   "metadata": {},
   "outputs": [
    {
     "name": "stdout",
     "output_type": "stream",
     "text": [
      "Unique values in job are ['management' 'technician' 'entrepreneur' 'blue-collar' 'unknown'\n",
      " 'retired' 'admin.' 'services' 'self-employed' 'unemployed' 'housemaid'\n",
      " 'student']\n",
      "----------------------------------------------------------------------------------------------------\n",
      "Unique values in marital are ['married' 'single' 'divorced']\n",
      "----------------------------------------------------------------------------------------------------\n",
      "Unique values in education are ['tertiary' 'secondary' 'unknown' 'primary']\n",
      "----------------------------------------------------------------------------------------------------\n",
      "Unique values in default are ['no' 'yes']\n",
      "----------------------------------------------------------------------------------------------------\n",
      "Unique values in housing are ['yes' 'no']\n",
      "----------------------------------------------------------------------------------------------------\n",
      "Unique values in loan are ['no' 'yes']\n",
      "----------------------------------------------------------------------------------------------------\n",
      "Unique values in contact are ['unknown' 'cellular' 'telephone']\n",
      "----------------------------------------------------------------------------------------------------\n",
      "Unique values in month are ['may' 'jun' 'jul' 'aug' 'oct' 'nov' 'dec' 'jan' 'feb' 'mar' 'apr' 'sep']\n",
      "----------------------------------------------------------------------------------------------------\n",
      "Unique values in poutcome are ['unknown' 'failure' 'other' 'success']\n",
      "----------------------------------------------------------------------------------------------------\n",
      "Unique values in y are ['no' 'yes']\n",
      "----------------------------------------------------------------------------------------------------\n",
      "Columns with missing values set as 'unknown':\n"
     ]
    },
    {
     "data": {
      "text/plain": [
       "['job', 'education', 'contact', 'poutcome']"
      ]
     },
     "execution_count": 16,
     "metadata": {},
     "output_type": "execute_result"
    }
   ],
   "source": [
    "# Check for unique values into categorical variables\n",
    "unique_values(data) # calls unique values function\n",
    "\n",
    "print(\"Columns with missing values set as 'unknown':\")\n",
    "cols[                       # uses the list of columns 'cols' and subsets it to the condition we want\n",
    "    (data == 'unknown')     # makes a boolean with True/False \n",
    "    .any(axis = 0)          # returns false unless there is at least one element meeting the condition withing a series or along a df axis\n",
    "].to_list()                 # return a list of the values"
   ]
  },
  {
   "cell_type": "code",
   "execution_count": 17,
   "metadata": {},
   "outputs": [],
   "source": [
    "# In case we need to check for unique values for continuous variables\n",
    "# data.apply(lambda x: len(x.unique())) #this lambda function counts the number of unique values in each column of the dataset"
   ]
  },
  {
   "cell_type": "markdown",
   "metadata": {},
   "source": [
    "All categorical features have the expected categories.\n",
    "However, we do see some 'unknown' values in the data for the following categories: _job, education, contact, and poutcome_. \n",
    "\n",
    "This could be interpreted as missing values that were treated by imputation. It would be interest to see how 'unknown' values are related to the variation within the data. We will comment this below."
   ]
  },
  {
   "cell_type": "markdown",
   "metadata": {},
   "source": [
    "### Missing Values"
   ]
  },
  {
   "cell_type": "code",
   "execution_count": 18,
   "metadata": {},
   "outputs": [
    {
     "name": "stdout",
     "output_type": "stream",
     "text": [
      "Checking for missing values in the Bank Term Deposit Dataset\n",
      "------------------------------------------------------------\n",
      "age          0\n",
      "job          0\n",
      "marital      0\n",
      "education    0\n",
      "default      0\n",
      "balance      0\n",
      "housing      0\n",
      "loan         0\n",
      "contact      0\n",
      "day          0\n",
      "month        0\n",
      "duration     0\n",
      "campaign     0\n",
      "pdays        0\n",
      "previous     0\n",
      "poutcome     0\n",
      "y            0\n",
      "dtype: int64\n",
      "------------------------------------------------------------\n"
     ]
    }
   ],
   "source": [
    "# Check for missing values\n",
    "missing_values(data) # calls missing values function"
   ]
  },
  {
   "cell_type": "markdown",
   "metadata": {},
   "source": [
    "As we noticed, the standard missing value function cannot help us visualize missing data because missing values did not come as N/A, but as 'unknown'. Thus, we have to find ways to deal with the 'unknown' values.\n",
    "\n",
    "Usually, one of the following is performed to handle missing values:\n",
    "* Dropping observations or features.\n",
    "* Imputation via values: filling missing data with some statistic (e.g.: mean, median) or some value (e.g.: 'unknown').\n",
    "* Imputation via prediction model.\n",
    "\n",
    "In this dataset, there is no missing values in the N/A format. However, as we just saw above, some missing values are treated as 'unknown' values.\n",
    "It is important to check whether missing information (in this case, the 'unknown') has any statistically relevant association with the outcome we want to predict. \n",
    "\n",
    "However, given the timeframe, I will skip this part."
   ]
  },
  {
   "cell_type": "markdown",
   "metadata": {},
   "source": [
    "### Units Conversion\n",
    "\n",
    "There is no need to convert units in the given features."
   ]
  },
  {
   "cell_type": "markdown",
   "metadata": {},
   "source": [
    "### Continuous and Categorical Variables"
   ]
  },
  {
   "cell_type": "code",
   "execution_count": 19,
   "metadata": {},
   "outputs": [
    {
     "data": {
      "text/html": [
       "<div>\n",
       "<style scoped>\n",
       "    .dataframe tbody tr th:only-of-type {\n",
       "        vertical-align: middle;\n",
       "    }\n",
       "\n",
       "    .dataframe tbody tr th {\n",
       "        vertical-align: top;\n",
       "    }\n",
       "\n",
       "    .dataframe thead th {\n",
       "        text-align: right;\n",
       "    }\n",
       "</style>\n",
       "<table border=\"1\" class=\"dataframe\">\n",
       "  <thead>\n",
       "    <tr style=\"text-align: right;\">\n",
       "      <th></th>\n",
       "      <th>age</th>\n",
       "      <th>balance</th>\n",
       "      <th>day</th>\n",
       "      <th>duration</th>\n",
       "      <th>campaign</th>\n",
       "      <th>pdays</th>\n",
       "      <th>previous</th>\n",
       "    </tr>\n",
       "  </thead>\n",
       "  <tbody>\n",
       "    <tr>\n",
       "      <th>1557</th>\n",
       "      <td>36</td>\n",
       "      <td>42</td>\n",
       "      <td>8</td>\n",
       "      <td>102</td>\n",
       "      <td>4</td>\n",
       "      <td>-1</td>\n",
       "      <td>0</td>\n",
       "    </tr>\n",
       "    <tr>\n",
       "      <th>27811</th>\n",
       "      <td>44</td>\n",
       "      <td>983</td>\n",
       "      <td>28</td>\n",
       "      <td>123</td>\n",
       "      <td>1</td>\n",
       "      <td>-1</td>\n",
       "      <td>0</td>\n",
       "    </tr>\n",
       "    <tr>\n",
       "      <th>22245</th>\n",
       "      <td>33</td>\n",
       "      <td>557</td>\n",
       "      <td>21</td>\n",
       "      <td>362</td>\n",
       "      <td>1</td>\n",
       "      <td>-1</td>\n",
       "      <td>0</td>\n",
       "    </tr>\n",
       "    <tr>\n",
       "      <th>35526</th>\n",
       "      <td>38</td>\n",
       "      <td>595</td>\n",
       "      <td>7</td>\n",
       "      <td>245</td>\n",
       "      <td>3</td>\n",
       "      <td>-1</td>\n",
       "      <td>0</td>\n",
       "    </tr>\n",
       "    <tr>\n",
       "      <th>40354</th>\n",
       "      <td>26</td>\n",
       "      <td>667</td>\n",
       "      <td>19</td>\n",
       "      <td>177</td>\n",
       "      <td>2</td>\n",
       "      <td>-1</td>\n",
       "      <td>0</td>\n",
       "    </tr>\n",
       "  </tbody>\n",
       "</table>\n",
       "</div>"
      ],
      "text/plain": [
       "       age  balance  day  duration  campaign  pdays  previous\n",
       "1557    36       42    8       102         4     -1         0\n",
       "27811   44      983   28       123         1     -1         0\n",
       "22245   33      557   21       362         1     -1         0\n",
       "35526   38      595    7       245         3     -1         0\n",
       "40354   26      667   19       177         2     -1         0"
      ]
     },
     "execution_count": 19,
     "metadata": {},
     "output_type": "execute_result"
    }
   ],
   "source": [
    "# Save continuous dataset into a new dataset for later use\n",
    "cont_data = save_cont_data(data)\n",
    "\n",
    "# Quick Overview\n",
    "cont_data.sample(5)"
   ]
  },
  {
   "cell_type": "code",
   "execution_count": 20,
   "metadata": {},
   "outputs": [
    {
     "data": {
      "text/html": [
       "<div>\n",
       "<style scoped>\n",
       "    .dataframe tbody tr th:only-of-type {\n",
       "        vertical-align: middle;\n",
       "    }\n",
       "\n",
       "    .dataframe tbody tr th {\n",
       "        vertical-align: top;\n",
       "    }\n",
       "\n",
       "    .dataframe thead th {\n",
       "        text-align: right;\n",
       "    }\n",
       "</style>\n",
       "<table border=\"1\" class=\"dataframe\">\n",
       "  <thead>\n",
       "    <tr style=\"text-align: right;\">\n",
       "      <th></th>\n",
       "      <th>job</th>\n",
       "      <th>marital</th>\n",
       "      <th>education</th>\n",
       "      <th>default</th>\n",
       "      <th>housing</th>\n",
       "      <th>loan</th>\n",
       "      <th>contact</th>\n",
       "      <th>month</th>\n",
       "      <th>poutcome</th>\n",
       "      <th>y</th>\n",
       "    </tr>\n",
       "  </thead>\n",
       "  <tbody>\n",
       "    <tr>\n",
       "      <th>27038</th>\n",
       "      <td>retired</td>\n",
       "      <td>married</td>\n",
       "      <td>secondary</td>\n",
       "      <td>no</td>\n",
       "      <td>no</td>\n",
       "      <td>no</td>\n",
       "      <td>cellular</td>\n",
       "      <td>nov</td>\n",
       "      <td>unknown</td>\n",
       "      <td>no</td>\n",
       "    </tr>\n",
       "    <tr>\n",
       "      <th>27840</th>\n",
       "      <td>management</td>\n",
       "      <td>married</td>\n",
       "      <td>tertiary</td>\n",
       "      <td>no</td>\n",
       "      <td>yes</td>\n",
       "      <td>no</td>\n",
       "      <td>cellular</td>\n",
       "      <td>jan</td>\n",
       "      <td>unknown</td>\n",
       "      <td>no</td>\n",
       "    </tr>\n",
       "    <tr>\n",
       "      <th>42769</th>\n",
       "      <td>technician</td>\n",
       "      <td>single</td>\n",
       "      <td>tertiary</td>\n",
       "      <td>no</td>\n",
       "      <td>yes</td>\n",
       "      <td>no</td>\n",
       "      <td>cellular</td>\n",
       "      <td>jan</td>\n",
       "      <td>failure</td>\n",
       "      <td>no</td>\n",
       "    </tr>\n",
       "    <tr>\n",
       "      <th>18640</th>\n",
       "      <td>blue-collar</td>\n",
       "      <td>married</td>\n",
       "      <td>primary</td>\n",
       "      <td>no</td>\n",
       "      <td>yes</td>\n",
       "      <td>yes</td>\n",
       "      <td>telephone</td>\n",
       "      <td>jul</td>\n",
       "      <td>unknown</td>\n",
       "      <td>no</td>\n",
       "    </tr>\n",
       "    <tr>\n",
       "      <th>44802</th>\n",
       "      <td>management</td>\n",
       "      <td>single</td>\n",
       "      <td>tertiary</td>\n",
       "      <td>no</td>\n",
       "      <td>no</td>\n",
       "      <td>no</td>\n",
       "      <td>cellular</td>\n",
       "      <td>sep</td>\n",
       "      <td>success</td>\n",
       "      <td>yes</td>\n",
       "    </tr>\n",
       "  </tbody>\n",
       "</table>\n",
       "</div>"
      ],
      "text/plain": [
       "               job  marital  education default housing loan    contact month  \\\n",
       "27038      retired  married  secondary      no      no   no   cellular   nov   \n",
       "27840   management  married   tertiary      no     yes   no   cellular   jan   \n",
       "42769   technician   single   tertiary      no     yes   no   cellular   jan   \n",
       "18640  blue-collar  married    primary      no     yes  yes  telephone   jul   \n",
       "44802   management   single   tertiary      no      no   no   cellular   sep   \n",
       "\n",
       "      poutcome    y  \n",
       "27038  unknown   no  \n",
       "27840  unknown   no  \n",
       "42769  failure   no  \n",
       "18640  unknown   no  \n",
       "44802  success  yes  "
      ]
     },
     "execution_count": 20,
     "metadata": {},
     "output_type": "execute_result"
    }
   ],
   "source": [
    "# Save categorical dataset into a new dataset for later use\n",
    "cat_data = save_cat_data(data)\n",
    "\n",
    "# Quick Overview\n",
    "cat_data.sample(5)"
   ]
  },
  {
   "cell_type": "markdown",
   "metadata": {},
   "source": [
    "### Continuous Variables\n",
    "\n",
    "In this section, we will check whether the most important statistics makes sence. We'll check the max and min values. Moreover, we'll look into the summary statistics and check for outliers."
   ]
  },
  {
   "cell_type": "markdown",
   "metadata": {},
   "source": [
    "#### Summary Statistics"
   ]
  },
  {
   "cell_type": "code",
   "execution_count": 21,
   "metadata": {},
   "outputs": [
    {
     "data": {
      "text/html": [
       "<div>\n",
       "<style scoped>\n",
       "    .dataframe tbody tr th:only-of-type {\n",
       "        vertical-align: middle;\n",
       "    }\n",
       "\n",
       "    .dataframe tbody tr th {\n",
       "        vertical-align: top;\n",
       "    }\n",
       "\n",
       "    .dataframe thead th {\n",
       "        text-align: right;\n",
       "    }\n",
       "</style>\n",
       "<table border=\"1\" class=\"dataframe\">\n",
       "  <thead>\n",
       "    <tr style=\"text-align: right;\">\n",
       "      <th></th>\n",
       "      <th>count</th>\n",
       "      <th>mean</th>\n",
       "      <th>std</th>\n",
       "      <th>min</th>\n",
       "      <th>25%</th>\n",
       "      <th>50%</th>\n",
       "      <th>75%</th>\n",
       "      <th>max</th>\n",
       "    </tr>\n",
       "  </thead>\n",
       "  <tbody>\n",
       "    <tr>\n",
       "      <th>age</th>\n",
       "      <td>45211.0</td>\n",
       "      <td>40.936210</td>\n",
       "      <td>10.618762</td>\n",
       "      <td>18.0</td>\n",
       "      <td>33.0</td>\n",
       "      <td>39.0</td>\n",
       "      <td>48.0</td>\n",
       "      <td>95.0</td>\n",
       "    </tr>\n",
       "    <tr>\n",
       "      <th>balance</th>\n",
       "      <td>45211.0</td>\n",
       "      <td>1362.272058</td>\n",
       "      <td>3044.765829</td>\n",
       "      <td>-8019.0</td>\n",
       "      <td>72.0</td>\n",
       "      <td>448.0</td>\n",
       "      <td>1428.0</td>\n",
       "      <td>102127.0</td>\n",
       "    </tr>\n",
       "    <tr>\n",
       "      <th>day</th>\n",
       "      <td>45211.0</td>\n",
       "      <td>15.806419</td>\n",
       "      <td>8.322476</td>\n",
       "      <td>1.0</td>\n",
       "      <td>8.0</td>\n",
       "      <td>16.0</td>\n",
       "      <td>21.0</td>\n",
       "      <td>31.0</td>\n",
       "    </tr>\n",
       "    <tr>\n",
       "      <th>duration</th>\n",
       "      <td>45211.0</td>\n",
       "      <td>258.163080</td>\n",
       "      <td>257.527812</td>\n",
       "      <td>0.0</td>\n",
       "      <td>103.0</td>\n",
       "      <td>180.0</td>\n",
       "      <td>319.0</td>\n",
       "      <td>4918.0</td>\n",
       "    </tr>\n",
       "    <tr>\n",
       "      <th>campaign</th>\n",
       "      <td>45211.0</td>\n",
       "      <td>2.763841</td>\n",
       "      <td>3.098021</td>\n",
       "      <td>1.0</td>\n",
       "      <td>1.0</td>\n",
       "      <td>2.0</td>\n",
       "      <td>3.0</td>\n",
       "      <td>63.0</td>\n",
       "    </tr>\n",
       "    <tr>\n",
       "      <th>pdays</th>\n",
       "      <td>45211.0</td>\n",
       "      <td>40.197828</td>\n",
       "      <td>100.128746</td>\n",
       "      <td>-1.0</td>\n",
       "      <td>-1.0</td>\n",
       "      <td>-1.0</td>\n",
       "      <td>-1.0</td>\n",
       "      <td>871.0</td>\n",
       "    </tr>\n",
       "    <tr>\n",
       "      <th>previous</th>\n",
       "      <td>45211.0</td>\n",
       "      <td>0.580323</td>\n",
       "      <td>2.303441</td>\n",
       "      <td>0.0</td>\n",
       "      <td>0.0</td>\n",
       "      <td>0.0</td>\n",
       "      <td>0.0</td>\n",
       "      <td>275.0</td>\n",
       "    </tr>\n",
       "  </tbody>\n",
       "</table>\n",
       "</div>"
      ],
      "text/plain": [
       "            count         mean          std     min    25%    50%     75%  \\\n",
       "age       45211.0    40.936210    10.618762    18.0   33.0   39.0    48.0   \n",
       "balance   45211.0  1362.272058  3044.765829 -8019.0   72.0  448.0  1428.0   \n",
       "day       45211.0    15.806419     8.322476     1.0    8.0   16.0    21.0   \n",
       "duration  45211.0   258.163080   257.527812     0.0  103.0  180.0   319.0   \n",
       "campaign  45211.0     2.763841     3.098021     1.0    1.0    2.0     3.0   \n",
       "pdays     45211.0    40.197828   100.128746    -1.0   -1.0   -1.0    -1.0   \n",
       "previous  45211.0     0.580323     2.303441     0.0    0.0    0.0     0.0   \n",
       "\n",
       "               max  \n",
       "age           95.0  \n",
       "balance   102127.0  \n",
       "day           31.0  \n",
       "duration    4918.0  \n",
       "campaign      63.0  \n",
       "pdays        871.0  \n",
       "previous     275.0  "
      ]
     },
     "execution_count": 21,
     "metadata": {},
     "output_type": "execute_result"
    }
   ],
   "source": [
    "# Summary Statistics\n",
    "data.describe().T"
   ]
  },
  {
   "cell_type": "markdown",
   "metadata": {},
   "source": [
    "#### Probability Distributions"
   ]
  },
  {
   "cell_type": "code",
   "execution_count": 22,
   "metadata": {},
   "outputs": [
    {
     "data": {
      "image/png": "[encoded data removed]",
      "text/plain": [
       "<Figure size 360x360 with 1 Axes>"
      ]
     },
     "metadata": {
      "needs_background": "light"
     },
     "output_type": "display_data"
    },
    {
     "data": {
      "image/png": "[encoded data removed]",
      "text/plain": [
       "<Figure size 360x360 with 1 Axes>"
      ]
     },
     "metadata": {
      "needs_background": "light"
     },
     "output_type": "display_data"
    },
    {
     "data": {
      "image/png": "[encoded data removed]",
      "text/plain": [
       "<Figure size 360x360 with 1 Axes>"
      ]
     },
     "metadata": {
      "needs_background": "light"
     },
     "output_type": "display_data"
    },
    {
     "data": {
      "image/png": "[encoded data removed]",
      "text/plain": [
       "<Figure size 360x360 with 1 Axes>"
      ]
     },
     "metadata": {
      "needs_background": "light"
     },
     "output_type": "display_data"
    },
    {
     "data": {
      "image/png": "[encoded data removed]",
      "text/plain": [
       "<Figure size 360x360 with 1 Axes>"
      ]
     },
     "metadata": {
      "needs_background": "light"
     },
     "output_type": "display_data"
    },
    {
     "data": {
      "image/png": "[encoded data removed]",
      "text/plain": [
       "<Figure size 360x360 with 1 Axes>"
      ]
     },
     "metadata": {
      "needs_background": "light"
     },
     "output_type": "display_data"
    },
    {
     "data": {
      "image/png": "[encoded data removed]",
      "text/plain": [
       "<Figure size 360x360 with 1 Axes>"
      ]
     },
     "metadata": {
      "needs_background": "light"
     },
     "output_type": "display_data"
    }
   ],
   "source": [
    "#### Probability Distributions\n",
    "pdf_plot_cont(cont_data) # calls pdf plots function"
   ]
  },
  {
   "cell_type": "markdown",
   "metadata": {},
   "source": [
    "Some features are strongly skewed to the right, let's focus on those. They are: **_balance_, _campaign_, _pdays_ and _previous_**.\n",
    "\n",
    "This information is important because it supports the methods we use for:\n",
    "* Handling Outliers\n",
    "* Feature Scaling  "
   ]
  },
  {
   "cell_type": "markdown",
   "metadata": {},
   "source": [
    "#### Making Sense of the (Continuous) Data\n",
    "\n",
    "* [Age] Note that the average age of people in this dataset is roughly 41 years old. The median is 39 years old, which means that half of the people with an open account at this bank is less than 39 and half is older. This makes sense, since we can find both older and younger people with an open banck account. Moreover, the percentile 75th is 48 years old, which means that 75% of the people (the majority) are less than 48 years old. Both the min and max values do make sense, because there can be someone very old (95 years old) and someone just starting their adult life (18 years old).\n",
    "* [Balance] Note that 75% of the people have less than 1428 euros in their bank account by the end of the year, on average. Both the min and max values do make sense, because there can be someone very rich (100k euros) and someone with a big debt (-8k euros).\n",
    "* [Day] Everything looks normal for this variable. Note that half of the people we contact last in the first half of the month and the other half in the last half of the month. This could be an interesting feature because maybe some people are more prone to subscribing a term deposit when they are done paying the majority of their household bills.\n",
    "* [Campaign] Note that the average number of contacts performed during this campaign for a specific client is roughly 3 times. However, we do notice that the max number does not make much sense because it would be very strange that someone was contacted 63 times during a campaign. This makes even more sence when 75% of the people were contacted at most 3 times. _This could also be an outlier and could be affecting some statistics such as the mean._\n",
    "* [Pdays] Note that the majority of people (75% of them) were not previously contacted. For those 25% who are left, we see an average of 40 days after the client was last contacted from a previous campaign, with a large variation. This variation can make sense since we are looking into a small portion of the data. Someone was last contacted 871 days after the last campaign. _This could also be an outlier and could be affecting some statistics such as the mean._\n",
    "* [Previous] Note that before this campaign, the majority of people were not contacted. From what is left, less than 1 contact was performed on average per client. Someone was contacted 275 times before this campaign and this seems odd. _This could also be an outlier and could be affecting some statistics such as the mean._"
   ]
  },
  {
   "cell_type": "markdown",
   "metadata": {},
   "source": [
    "### Categorical Variables\n",
    "\n",
    "#### Box Plots"
   ]
  },
  {
   "cell_type": "code",
   "execution_count": 23,
   "metadata": {},
   "outputs": [
    {
     "data": {
      "image/png": "[encoded data removed]",
      "text/plain": [
       "<Figure size 1440x288 with 1 Axes>"
      ]
     },
     "metadata": {
      "needs_background": "light"
     },
     "output_type": "display_data"
    },
    {
     "data": {
      "image/png": "[encoded data removed]",
      "text/plain": [
       "<Figure size 432x288 with 1 Axes>"
      ]
     },
     "metadata": {
      "needs_background": "light"
     },
     "output_type": "display_data"
    },
    {
     "data": {
      "image/png": "[encoded data removed]",
      "text/plain": [
       "<Figure size 432x288 with 1 Axes>"
      ]
     },
     "metadata": {
      "needs_background": "light"
     },
     "output_type": "display_data"
    },
    {
     "data": {
      "image/png": "[encoded data removed]",
      "text/plain": [
       "<Figure size 432x288 with 1 Axes>"
      ]
     },
     "metadata": {
      "needs_background": "light"
     },
     "output_type": "display_data"
    },
    {
     "data": {
      "image/png": "[encoded data removed]",
      "text/plain": [
       "<Figure size 432x288 with 1 Axes>"
      ]
     },
     "metadata": {
      "needs_background": "light"
     },
     "output_type": "display_data"
    },
    {
     "data": {
      "image/png": "[encoded data removed]",
      "text/plain": [
       "<Figure size 432x288 with 1 Axes>"
      ]
     },
     "metadata": {
      "needs_background": "light"
     },
     "output_type": "display_data"
    },
    {
     "data": {
      "image/png": "[encoded data removed]",
      "text/plain": [
       "<Figure size 432x288 with 1 Axes>"
      ]
     },
     "metadata": {
      "needs_background": "light"
     },
     "output_type": "display_data"
    },
    {
     "data": {
      "image/png": "[encoded data removed]",
      "text/plain": [
       "<Figure size 432x288 with 1 Axes>"
      ]
     },
     "metadata": {
      "needs_background": "light"
     },
     "output_type": "display_data"
    },
    {
     "data": {
      "image/png": "[encoded data removed]",
      "text/plain": [
       "<Figure size 432x288 with 1 Axes>"
      ]
     },
     "metadata": {
      "needs_background": "light"
     },
     "output_type": "display_data"
    },
    {
     "data": {
      "image/png": "[encoded data removed]",
      "text/plain": [
       "<Figure size 432x288 with 1 Axes>"
      ]
     },
     "metadata": {
      "needs_background": "light"
     },
     "output_type": "display_data"
    }
   ],
   "source": [
    "# Bar Plots for Categorical Variables\n",
    "bar_plot_cat(cat_data)"
   ]
  },
  {
   "cell_type": "markdown",
   "metadata": {},
   "source": [
    "Note that 'unknown' values are present for features _poutcome_, _contact_, _education_, and _job_.\n",
    "\n",
    "As mentioned before, some missing values are treated as 'unknown' values. It is important to check whether missing information (in this case, the 'unknown') has any statistically relevant association with the outcome we want to predict.\n",
    "\n",
    "However, given the timeframe, I will skip this part.\n",
    "\n"
   ]
  },
  {
   "cell_type": "markdown",
   "metadata": {},
   "source": [
    "#### Making Sense of the (Categorical) Data\n",
    "\n",
    "* [Job] the smaller number of clients with a bank account are Students and the higher are working in management.\n",
    "* [Marital Status] There are more married people with an open bank account then divorced and single ones.\n",
    "* [Education] Most people attained a secondary education whereas the minority attained a primary education.\n",
    "* [Default] Most people do not have credit in default.\n",
    "* [Housing] Housing loan is balanced.Roughly 50% of people have housing loan and 50% do not.\n",
    "* [Loan] The majority of people do not have personal loan.\n",
    "* [Contact] The majority of people use their mobile as a contact communication type and the minority uses telephone. There are a considerate number of 'unknown'.\n",
    "* [Month] The majority of people have been last contacted in the summer, starting with the highest number of contacts done in May. The minority was during the winter, with the smallest numebr being in December.\n",
    "* [poutcome] There is a considerate number of 'unknown' for the outcome of the previous marketing campaign. For those who are left, the outcome of the previous marketing campaign was a failure and for the minority was a success. "
   ]
  },
  {
   "cell_type": "code",
   "execution_count": 24,
   "metadata": {},
   "outputs": [
    {
     "data": {
      "text/plain": [
       "count    45211.000000\n",
       "mean        40.936210\n",
       "std         10.618762\n",
       "min         18.000000\n",
       "25%         33.000000\n",
       "50%         39.000000\n",
       "75%         48.000000\n",
       "max         95.000000\n",
       "Name: age, dtype: float64"
      ]
     },
     "execution_count": 24,
     "metadata": {},
     "output_type": "execute_result"
    }
   ],
   "source": [
    "data['age'].describe()"
   ]
  },
  {
   "cell_type": "markdown",
   "metadata": {},
   "source": [
    "## Feature Engineering\n",
    "Feature engineering is the process of selecting and transforming variables/features in the context of a Predictive ML Model.\n",
    "\n",
    "-> check: https://www.freecodecamp.org/news/feature-engineering-and-feature-selection-for-beginners/"
   ]
  },
  {
   "cell_type": "markdown",
   "metadata": {},
   "source": [
    "### Units Conversion"
   ]
  },
  {
   "cell_type": "markdown",
   "metadata": {},
   "source": [
    "### Continuous Variables"
   ]
  },
  {
   "cell_type": "markdown",
   "metadata": {},
   "source": [
    "#### Outliers detection and treatment\n",
    "\n",
    "Outliers can be found due to variation within the data (i.e., due to an unexpected large variance in a feature) or due to mistakes. Both cases can be dealt with. Let's start looking at the probability distribution of those features and look at their skewness to evaluate possible candidate features for outliers."
   ]
  },
  {
   "cell_type": "code",
   "execution_count": null,
   "metadata": {},
   "outputs": [],
   "source": [
    "# Define Candidate Features for Outliers\n",
    "potential_outliers = ['balance','campaign','pdays','previous']\n",
    "\n",
    "# Boxplots\n",
    "box_plot(potential_outliers, cont_data)"
   ]
  },
  {
   "cell_type": "markdown",
   "metadata": {},
   "source": [
    "There are clearly some outliers in these features. We need to handle those. For that, let's use the Interquartile Range (IQR) Method.\n",
    "\n",
    "Notice that because the right skewedness was the basis for outlier detection, I decided to only use the **upper bound** as a threshold when eliminating outliers.\n",
    "\n",
    "Moreover, instead of dropping observations, I decided to replace them with NaN values (i.e., the default missing value marker on pandas).\n",
    "\n",
    "**Important Notes**\n",
    "* For the _previous_ feature: I decided to first get rid of the max value, which is clearly a strong outlier. Then, I will proceed with the IQR method.\n",
    "* For the _pdays_ feature, -1 means that the client was not contacted previous to this campaign. pdays means the number of days that passed by after the client was last contacted from a previous campaign. The IQR method will not be interesting for this variable because even though 75% of the data have not been contacted previous to this campaign, there is still potentially interesting hidden information for those who were contacted (25% of the data accounts for roughly 11k people) and it would be interesting to know whether having been contacted has any statistically relevant association with subscribing a term deposit.\n",
    "\n",
    "All outliers are marked in the respective features as NaN. This serves both to quickly assessing the summary statistics (which drop out NaN in its analysis) and also for handling outliers. There was no NaN values before this, so there won't be any misunderstanding with original ones."
   ]
  },
  {
   "cell_type": "code",
   "execution_count": null,
   "metadata": {},
   "outputs": [],
   "source": [
    "# Save another copy of the dataframe\n",
    "data_copy = data.copy()\n",
    "\n",
    "# IQR Method - Detecting Outliers\n",
    "new_potential_outliers = potential_outliers\n",
    "new_potential_outliers.remove('balance') # remove 'balance' because it is not unlikely that someone has a lot of money in their bank account\n",
    "\n",
    "iqr_method(new_potential_outliers, data_copy) #calls the IQR function\n"
   ]
  },
  {
   "cell_type": "code",
   "execution_count": null,
   "metadata": {},
   "outputs": [],
   "source": [
    "# Check new dataset with NaN as outliers\n",
    "data_copy.describe().T"
   ]
  },
  {
   "cell_type": "code",
   "execution_count": null,
   "metadata": {},
   "outputs": [],
   "source": [
    "# Check and count outliers\n",
    "\n",
    "print(\"The features in which outliers were replaced by NaN and their respective % are:\")\n",
    "total = data_copy[potential_outliers].select_dtypes(include = 'number').isnull().sum().sort_values(ascending = False)\n",
    "percent = data_copy[potential_outliers].select_dtypes(include = 'number').isnull().sum()/data_copy[potential_outliers].select_dtypes(include = 'number').isnull().count()\n",
    "outliers = pd.concat([total, percent], axis = 1, keys = ['Total', 'Percent'])\n",
    "outliers"
   ]
  },
  {
   "cell_type": "markdown",
   "metadata": {},
   "source": [
    "I decided to proceed with replacing outliers by relevant statistics proceeding with basic imputation method:\n",
    "* For campaign, and previous: replace outliers by **Median** because of the presence of skewness\n",
    "* For pdays: because it is highly skewed and the majority of clients were not contacted before ('-1'), it would be good to replace outliers with the mode '-1'."
   ]
  },
  {
   "cell_type": "code",
   "execution_count": null,
   "metadata": {},
   "outputs": [],
   "source": [
    "# Treating Outliers\n",
    "\n",
    "relevant_outliers = ['campaign', 'previous']\n",
    "\n",
    "# mean\n",
    "for col in relevant_outliers:\n",
    "    data_copy[col].fillna(data_copy[col].median(), inplace = True)\n",
    "\n",
    "# mode\n",
    "data_copy['pdays'].fillna(data_copy['pdays'].mode()[0], inplace = True)"
   ]
  },
  {
   "cell_type": "code",
   "execution_count": null,
   "metadata": {},
   "outputs": [],
   "source": [
    "# Check whether outiers were removed\n",
    "\n",
    "# Boxplots\n",
    "\n",
    "box_plot(potential_outliers, data_copy)"
   ]
  },
  {
   "cell_type": "markdown",
   "metadata": {},
   "source": [
    "Note that after we removed the potential outliers, we were left only with people who were not contacted before this campaign (maximum value of _previous_ = 0).\n",
    "Moreover, since _pdays_ would show number of days that passed by after the client was last contacted from a previous campaign, it makes sense to only be left with the value -1, which indicates people who were not previously contacted.\n",
    " \n",
    "Now let's plot the data again, but for the only relevant features left: _campaign_. We will avoid using previous and pdays because it does not seem to have much relevant information of the variation in the data."
   ]
  },
  {
   "cell_type": "code",
   "execution_count": null,
   "metadata": {},
   "outputs": [],
   "source": [
    "# Boxplots & Probability Distribution\n",
    "\n",
    "plt.figure(figsize = (20,10))\n",
    "\n",
    "plt.subplot(2, 2, 1) # 2: both plots on 2 rows / 2: divide both plots into 2 columns / 1: controls the first plot\n",
    "sns.distplot(data['campaign'])\n",
    "plt.xlabel('Campaign - With Outliers')\n",
    "\n",
    "plt.subplot(2, 2, 2) # 2: both plots on 2 rows / 2: divide both plots into 2 columns / 2: controls the second plot\n",
    "sns.boxplot(x = data['campaign'], orient = 'h')\n",
    "plt.xlabel('Campaign - With Outliers')\n",
    "\n",
    "plt.subplot(2, 2, 3) # 2: both plots on 2 rows / 2: divide both plots into 2 columns / 3: controls the third plot\n",
    "sns.distplot(no_outliers_data['campaign'])\n",
    "plt.xlabel('Campaign - After Removing Outliers')\n",
    "\n",
    "plt.subplot(2, 2, 4) # 2: both plots on 2 rows / 2: divide both plots into 2 columns / 4: controls the fourth plot\n",
    "sns.boxplot(x = no_outliers_data['campaign'], orient = 'h')\n",
    "plt.xlabel('Campaign - After Removing Outliers')\n",
    "\n",
    "plt.show()"
   ]
  },
  {
   "cell_type": "markdown",
   "metadata": {},
   "source": [
    "Notice that we have a Multimodal Distribution for both the feature campaign and balance.\n",
    "\n",
    "For the feature _campaign_, the average number of contacts perform during this campaign was 2. Moreover, 75% of the people were contact at most 3 times during this campaign."
   ]
  },
  {
   "cell_type": "markdown",
   "metadata": {},
   "source": [
    "#### Feature Scaling - Standardization (or Z-score Normalization)\n",
    "\n",
    "It is best practice to bring all (continuous) features to the same scale.\n",
    "\n",
    "A reason for feature scaling is to speed up convergence in the gradient descent process.\n",
    "\n",
    "Another reason is that it makes it easier for visualization because every transformed feature will be under the same range of values.\n",
    "\n",
    "Notes: \n",
    "* A Standard scaler assumes that the distribution within each feature follows a normal (gaussian) distribution.\n",
    "* It is better to standardize variables **after (and not before)** removing outliers because when doing the latter, data can become even more normally distributed, an assumption required in standardization."
   ]
  },
  {
   "cell_type": "markdown",
   "metadata": {},
   "source": [
    "### Categorical Variables"
   ]
  },
  {
   "cell_type": "markdown",
   "metadata": {},
   "source": [
    "#### Label Encoding"
   ]
  },
  {
   "cell_type": "markdown",
   "metadata": {},
   "source": [
    "## Feature Selection"
   ]
  },
  {
   "cell_type": "markdown",
   "metadata": {},
   "source": [
    "### Inferential Statistics and Hypothesis Testing\n",
    "\n",
    "-> check: https://www.coursera.org/learn/ibm-exploratory-data-analysis-for-machine-learning#syllabus"
   ]
  },
  {
   "cell_type": "markdown",
   "metadata": {},
   "source": [
    "### Feature Importance"
   ]
  },
  {
   "cell_type": "markdown",
   "metadata": {},
   "source": [
    "### Correlation Matrix Heatmap"
   ]
  },
  {
   "cell_type": "code",
   "execution_count": null,
   "metadata": {},
   "outputs": [],
   "source": [
    "# Heatmap = Correlation among features\n",
    "\n",
    "# function to set figure parameters\n",
    "def fig_att(figure, title, titlex, titley, size, sizexy, weight):\n",
    "    figure.set_title(title,   size = size,   weight = weight)\n",
    "    figure.set_xlabel(titlex, size = sizexy, weight = weight)\n",
    "    figure.set_ylabel(titley, size = sizexy, weight = weight)\n",
    "\n",
    "plt.figure(figsize = (15,8))\n",
    "ax = sns.heatmap(no_outliers_data[no_outliers_data.columns.difference(['pdays', 'previous'])].corr(), # use all but omit previous and pdays features\n",
    "                                         annot = True, fmt = '.1g', vmin = -1, vmax = 1, center = 0)\n",
    "\n",
    "fig_att(ax, \"Heatmap - Correlation among Features\", \"Features\", \"Features\", 35, 25, \"bold\")\n",
    "\n",
    "plt.show()"
   ]
  },
  {
   "cell_type": "markdown",
   "metadata": {},
   "source": [
    "### Model Training"
   ]
  },
  {
   "cell_type": "markdown",
   "metadata": {},
   "source": [
    "### Model Evaluation"
   ]
  },
  {
   "cell_type": "markdown",
   "metadata": {},
   "source": [
    "### Class Imbalance"
   ]
  }
 ],
 "metadata": {
  "interpreter": {
   "hash": "ac7dd041828cf56631353191c608ccde6a0be02c5ac588a2993150c1410b91d4"
  },
  "kernelspec": {
   "display_name": "Python 3.9.7 ('base')",
   "language": "python",
   "name": "python3"
  },
  "language_info": {
   "codemirror_mode": {
    "name": "ipython",
    "version": 3
   },
   "file_extension": ".py",
   "mimetype": "text/x-python",
   "name": "python",
   "nbconvert_exporter": "python",
   "pygments_lexer": "ipython3",
   "version": "3.9.7"
  },
  "orig_nbformat": 4
 },
 "nbformat": 4,
 "nbformat_minor": 2
}
