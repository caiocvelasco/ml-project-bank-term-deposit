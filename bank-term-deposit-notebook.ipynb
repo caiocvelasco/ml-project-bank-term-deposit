{
 "cells": [
  {
   "cell_type": "markdown",
   "metadata": {},
   "source": [
    "## Term Deposit Predictive ML Model"
   ]
  },
  {
   "cell_type": "markdown",
   "metadata": {},
   "source": [
    "### Housekeping\n",
    "1. How was this project conducted?\n",
    "This project was developed locally with Visual Studio Code and GitHub version control.\n",
    "\n",
    "In case you want to find this project, please check my personal [GitHub page](https://caiocvelasco.github.io/) or go to this [GitHub Repository](https://github.com/caiocvelasco/ml-project-bank-term-deposit/blob/4f1bfa72d17cefdfe2a515054f1f2cfffa3c7749/bank-term-deposit-notebook.ipynb).\n",
    "\n",
    "2. Data Collection\n",
    "For this project, data was already available on a _csv_ format. So I'll skip this section.\n"
   ]
  }
 ],
 "metadata": {
  "language_info": {
   "name": "python"
  },
  "orig_nbformat": 4
 },
 "nbformat": 4,
 "nbformat_minor": 2
}
