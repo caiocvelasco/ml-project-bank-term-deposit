{
 "cells": [
  {
   "cell_type": "markdown",
   "metadata": {},
   "source": [
    "## Term Deposit Predictive ML Model"
   ]
  },
  {
   "cell_type": "markdown",
   "metadata": {},
   "source": [
    "### Project Development\n",
    "This project was developed locally with Visual Studio Code and GitHub version control.\n",
    "\n",
    "Please check this project @ [GitHub page](https://caiocvelasco.github.io/) or @ [GitHub Repository](https://github.com/caiocvelasco/ml-project-bank-term-deposit/blob/4f1bfa72d17cefdfe2a515054f1f2cfffa3c7749/bank-term-deposit-notebook.ipynb).\n",
    "\n",
    "### Problem Definition\n",
    "\n",
    "A bank would like to understand the main factors driving customers to subscribe a Term Deposit.\n",
    "\n",
    "### Objective\n",
    "Our goal is to build a classifier (supervised machine Learning model) to predict whether customers would subscribe a Term Deposit. In case we find high accuracy in our model, it would imply that the bank marketing department could benefit from an efficient use of available resources by focusing on the \"right\" customers (given by our _classifier_). Moreover, we want to understand which other factors might also affect customers' decision.\n",
    "\n",
    "* Recall: Classification Model\n",
    "\n",
    "    The goal of a classification model is to build a data-driven model that learns an unknown underlying function that maps several input variables, which characterize an item (e.g., bank client, with one labeled output target (e.g., type of bank deposit sell: “failure” or “success”). \n",
    "    _[Moro et al., 2014] S. Moro, P. Cortez and P. Rita. A Data-Driven Approach to Predict the Success of Bank Telemarketing. Decision Support Systems, Elsevier, 62:22-31, June 2014_"
   ]
  },
  {
   "cell_type": "markdown",
   "metadata": {},
   "source": [
    "### Background and Terminology\n",
    "\n",
    "Suppose a bank is interested in predicting whether its customers would subscribe a _Bank Term Deposit_. \n",
    "\n",
    "**What is a term deposit and why does someone want to invest their money?**\n",
    "\n",
    "Before answering these questions, let's look into some important definitions and then into some insights from Economic Theory. This will help understand the scenario.\n",
    "\n",
    "**Financial Instruments**\n",
    "\n",
    "A financial instrument is an asset that can be traded between entities. An agreement (or contract) will hold both parties accountable for such transaction.\n",
    "We can divide financial instruments into different classes of financial instruments. An example is the _Debt-Based Financial Instruments_.\n",
    "\n",
    "**Debt-Based Financial Instruments**\n",
    "\n",
    "The term _debt_ comes from the fact that some financial institutions want to raise capital by borrowing money from people. When this transaction happens, the financial institution has the obligation to pay back at a later date, with interest. Thus, the financial institution has a _debt_ with the lender.\n",
    "Such instruments can also be interpreted as a _Certificate of Deposit_, i.e., you _deposit_ money into an account at a financial institution for some period of time in exchange for future compensation.\n",
    "\n",
    "**Maturity**\n",
    "\n",
    "Maturity is the period of time it takes for the lender to withdraw this or her money from the bank. Maturity date is the agreed-upon date on which the investment ends.\n",
    "\n",
    "**Fixed-term Investment**\n",
    "\n",
    "When a financial instrument has a fixed time period of investment, the maturity is known at the time of issuance and the lender cannot withdraw its money befeore maturity without incurring on a _early withdrawal penalty_. This penalty is important to the bank, because a bank makes money by lending its customers deposits to other entities and profiting on top of that. Banks need to reduce risk in their operations and such penalties account for the unexpected costs created by customers who decide to withdraw their deposits before maturity.  \n",
    "\n",
    "**Term Deposit**\n",
    "\n",
    "Term Deposit is an example of a _Fixed-Term, Debt-Based Financial Instrument_, also called a _Certificate of Deposit_.\n",
    "Moreover, a Term Deposit is a risk-free investment since they are backed by the government.\n",
    "In sum:\n",
    "* When a customer subscribes to a **Term Deposit** he or she will deposit (or invest) money into a bank account, agreeing not to withdraw their funds for a fixed period in return for future compensation (interest), i.e., before maturity.\n",
    "\n",
    "**The Decision Problem faced by an Investor**\n",
    "\n",
    "An investor is an individual (or entity) who makes certain decisions regarding how he or she spends his or her money.\n",
    "* How much of my money should I use in consumption (goods or services) now?\n",
    "* From what is left, how much should I spend on investment opportunities?\n",
    "\n",
    "Such decisions are unscapable to the individual because resourses are limited. You only have a certain amount of money and you need to make decisions regarding how to spend it.\n",
    "We say that the investor faces a _trade-off_ between consuming less now to (hopefully) consume more in the future, i.e.:\n",
    "* Spend less in consumption at the beginning of a period in exchange for an investment opportunity that will hopefully earn profits at the end of the period.\n",
    "\n",
    "**Economic Incentives behind Consumer Behavior & Investment Opportunities**\n",
    "\n",
    "An _Economic Incentive_ is something that motivates or drives one to behave in a certain way. The most simple example in Economics is: Prices.\\\n",
    "_Prices_ provide an incentive mechanism that might induce people's behavior in a certain way. For example, if the price of apples go up, you will probably buy less apples (and buy more of some other good or service).\n",
    "\n",
    "Good points to notice:\n",
    "* In periods of rising interest rates in society (usually started by the Central Bank), consumers are more likely to invest because it is better to lend money to the bank than to spend it on consumption now. Thus, when the interest rate is higher, people tend to invest more, hence changing their status-quo behavior. Thus, future expectations of _higher interest rates_ could help predict consumer behavior towards subscribing to **Term Deposits**.\n",
    "* **Term deposits** do not keep up with inflation. If the rate on a term deposit is 3% and the inflation rate. is 3.5%, the customer is not earning enough to compensate for price increases in the economy. Thus, _Inflation Rate_ maybe a strong underlying _economic incentive_ that could help predict consumer behavior towards subscribing to **Term Deposits**."
   ]
  },
  {
   "cell_type": "markdown",
   "metadata": {},
   "source": [
    "### Data Collection\n",
    "Data was already available on a _csv_ format. So I'll skip this section."
   ]
  },
  {
   "cell_type": "markdown",
   "metadata": {},
   "source": [
    "### Importing Libraries"
   ]
  },
  {
   "cell_type": "code",
   "execution_count": 186,
   "metadata": {},
   "outputs": [],
   "source": [
    "# !pip install seaborn pandas matplotlib numpy\n",
    "import pandas as pd              # for data analysis\n",
    "import numpy as np               # for scientific computing\n",
    "import os                        # for file interactions in the user's operating system\n",
    "import warnings                  # for dealing with warning messages\n",
    "\n",
    "import matplotlib.pyplot as plt  # for data visualization\n",
    "import matplotlib as mpl\n",
    "import seaborn as sns            # for data visualization"
   ]
  },
  {
   "cell_type": "markdown",
   "metadata": {},
   "source": [
    "### Importing Dateset\n",
    "\n",
    "1. [_Note_] It is important to import only the data we need to save up time and space. However, this dataset already contains the features we need, so I will skip that.\n",
    "2. [_Importing_] The csv dataset will be imported as a dataframe using pandas.\n",
    "3. [_Independence_] This notebook can be downloaded and saved anywhere in your computer (one needs only to change the name of the folder where the CVS files are located).\n",
    "4. [_Automation_] Any dataset saved in the designated folder will be stored automatically.\n",
    "5. [Stacking] If there is a need to combine (or stack) multiple CSV files, please read the _extra_ below.\n",
    "\n",
    "Extra\n",
    "* If there is a need to stack (or combine) multiple CSV files based on a matching _filename_ pattern, please check one of my [repositories](https://github.com/caiocvelasco/stack-combine-multiple-csv-files/blob/7854a473046e4dc5876bcf8caa69b4b3d16dc7e1/stack-combine-multiple-csv-files.ipynb). There, you'll find a code to perform this task automatically under the following assumption: the stored CSV files have the same features (aka same columns)."
   ]
  },
  {
   "cell_type": "code",
   "execution_count": 187,
   "metadata": {},
   "outputs": [
    {
     "data": {
      "text/html": [
       "<div>\n",
       "<style scoped>\n",
       "    .dataframe tbody tr th:only-of-type {\n",
       "        vertical-align: middle;\n",
       "    }\n",
       "\n",
       "    .dataframe tbody tr th {\n",
       "        vertical-align: top;\n",
       "    }\n",
       "\n",
       "    .dataframe thead th {\n",
       "        text-align: right;\n",
       "    }\n",
       "</style>\n",
       "<table border=\"1\" class=\"dataframe\">\n",
       "  <thead>\n",
       "    <tr style=\"text-align: right;\">\n",
       "      <th></th>\n",
       "      <th>age</th>\n",
       "      <th>job</th>\n",
       "      <th>marital</th>\n",
       "      <th>education</th>\n",
       "      <th>default</th>\n",
       "      <th>balance</th>\n",
       "      <th>housing</th>\n",
       "      <th>loan</th>\n",
       "      <th>contact</th>\n",
       "      <th>day</th>\n",
       "      <th>month</th>\n",
       "      <th>duration</th>\n",
       "      <th>campaign</th>\n",
       "      <th>pdays</th>\n",
       "      <th>previous</th>\n",
       "      <th>poutcome</th>\n",
       "      <th>y</th>\n",
       "    </tr>\n",
       "  </thead>\n",
       "  <tbody>\n",
       "    <tr>\n",
       "      <th>3797</th>\n",
       "      <td>30</td>\n",
       "      <td>admin.</td>\n",
       "      <td>married</td>\n",
       "      <td>secondary</td>\n",
       "      <td>no</td>\n",
       "      <td>40</td>\n",
       "      <td>yes</td>\n",
       "      <td>yes</td>\n",
       "      <td>unknown</td>\n",
       "      <td>16</td>\n",
       "      <td>may</td>\n",
       "      <td>108</td>\n",
       "      <td>2</td>\n",
       "      <td>-1</td>\n",
       "      <td>0</td>\n",
       "      <td>unknown</td>\n",
       "      <td>no</td>\n",
       "    </tr>\n",
       "    <tr>\n",
       "      <th>3528</th>\n",
       "      <td>58</td>\n",
       "      <td>blue-collar</td>\n",
       "      <td>married</td>\n",
       "      <td>secondary</td>\n",
       "      <td>no</td>\n",
       "      <td>288</td>\n",
       "      <td>yes</td>\n",
       "      <td>no</td>\n",
       "      <td>unknown</td>\n",
       "      <td>15</td>\n",
       "      <td>may</td>\n",
       "      <td>404</td>\n",
       "      <td>7</td>\n",
       "      <td>-1</td>\n",
       "      <td>0</td>\n",
       "      <td>unknown</td>\n",
       "      <td>no</td>\n",
       "    </tr>\n",
       "    <tr>\n",
       "      <th>32597</th>\n",
       "      <td>30</td>\n",
       "      <td>blue-collar</td>\n",
       "      <td>single</td>\n",
       "      <td>secondary</td>\n",
       "      <td>no</td>\n",
       "      <td>971</td>\n",
       "      <td>yes</td>\n",
       "      <td>no</td>\n",
       "      <td>cellular</td>\n",
       "      <td>17</td>\n",
       "      <td>apr</td>\n",
       "      <td>283</td>\n",
       "      <td>1</td>\n",
       "      <td>317</td>\n",
       "      <td>2</td>\n",
       "      <td>other</td>\n",
       "      <td>no</td>\n",
       "    </tr>\n",
       "    <tr>\n",
       "      <th>12672</th>\n",
       "      <td>30</td>\n",
       "      <td>admin.</td>\n",
       "      <td>married</td>\n",
       "      <td>secondary</td>\n",
       "      <td>no</td>\n",
       "      <td>215</td>\n",
       "      <td>no</td>\n",
       "      <td>yes</td>\n",
       "      <td>cellular</td>\n",
       "      <td>4</td>\n",
       "      <td>jul</td>\n",
       "      <td>95</td>\n",
       "      <td>2</td>\n",
       "      <td>-1</td>\n",
       "      <td>0</td>\n",
       "      <td>unknown</td>\n",
       "      <td>no</td>\n",
       "    </tr>\n",
       "    <tr>\n",
       "      <th>2</th>\n",
       "      <td>33</td>\n",
       "      <td>entrepreneur</td>\n",
       "      <td>married</td>\n",
       "      <td>secondary</td>\n",
       "      <td>no</td>\n",
       "      <td>2</td>\n",
       "      <td>yes</td>\n",
       "      <td>yes</td>\n",
       "      <td>unknown</td>\n",
       "      <td>5</td>\n",
       "      <td>may</td>\n",
       "      <td>76</td>\n",
       "      <td>1</td>\n",
       "      <td>-1</td>\n",
       "      <td>0</td>\n",
       "      <td>unknown</td>\n",
       "      <td>no</td>\n",
       "    </tr>\n",
       "  </tbody>\n",
       "</table>\n",
       "</div>"
      ],
      "text/plain": [
       "       age           job  marital  education default  balance housing loan  \\\n",
       "3797    30        admin.  married  secondary      no       40     yes  yes   \n",
       "3528    58   blue-collar  married  secondary      no      288     yes   no   \n",
       "32597   30   blue-collar   single  secondary      no      971     yes   no   \n",
       "12672   30        admin.  married  secondary      no      215      no  yes   \n",
       "2       33  entrepreneur  married  secondary      no        2     yes  yes   \n",
       "\n",
       "        contact  day month  duration  campaign  pdays  previous poutcome   y  \n",
       "3797    unknown   16   may       108         2     -1         0  unknown  no  \n",
       "3528    unknown   15   may       404         7     -1         0  unknown  no  \n",
       "32597  cellular   17   apr       283         1    317         2    other  no  \n",
       "12672  cellular    4   jul        95         2     -1         0  unknown  no  \n",
       "2       unknown    5   may        76         1     -1         0  unknown  no  "
      ]
     },
     "execution_count": 187,
     "metadata": {},
     "output_type": "execute_result"
    }
   ],
   "source": [
    "# Basic Settings\n",
    "csv_folder_name = \"bank_marketing\"  # please, change the folder name where the CSV files are stored **if need be**\n",
    "notebook_location = \"C:\\\\Users\\\\caiov\\\\OneDrive - UCLA IT Services\\\\Documentos\\\\DataScience\\\\Datasets\" # set the location where this notebook is saved\n",
    "csv_folder_path = notebook_location + \"\\\\\" + csv_folder_name  # set path for the CSV files\n",
    "os.chdir(csv_folder_path)                                     # set location of CSV files\n",
    "\n",
    "# Save cvs data on a pandas dataframe\n",
    "df = pd.read_csv(\"bank-full-case.csv\", sep = \";\", skipinitialspace = True) #skip space after delimiter\n",
    "\n",
    "# Save a copy of the dataframe\n",
    "data = df.copy()\n",
    "\n",
    "# Basic Formatting\n",
    "data.name = \"Bank Term Deposit Dataset\" # rename the dataset \n",
    "cols = data.columns;                    # create a list with features names\n",
    "\n",
    "# Quick overview of a sample from the data\n",
    "data.sample(5)"
   ]
  },
  {
   "cell_type": "markdown",
   "metadata": {},
   "source": [
    "### Exploratory Data Analysis - EDA\n",
    "\n",
    "We have the data. The next step is to explore it. We'll look at:\n",
    "    - Checking Data Types\n",
    "    - Handling Missing Values\n",
    "    - Converting Units (if needed)\n",
    "    - Summarizing Continuous Variables (making sense of the data / summary statistics / outliers detection and treatment)\n",
    "    - Summarizing Categorical Variables (Histograms)\n",
    "    - Histogram - for the target we want to predict\n",
    "    - Probability Density Function per marital status, education, and type of contact \n",
    "    - Multiple Boxplots per marital status, education, and type of contact \n",
    "    - Correlation Matrix for multiple features\n",
    "\n",
    "* Shape and Size"
   ]
  },
  {
   "cell_type": "code",
   "execution_count": 188,
   "metadata": {},
   "outputs": [
    {
     "name": "stdout",
     "output_type": "stream",
     "text": [
      "Dataset shape: 45211 observations and 17 features.\n",
      "This dataset has a total of: 768587 entries.\n"
     ]
    }
   ],
   "source": [
    "# Check Shape and Size\n",
    "print(\"Dataset shape: \" + str(data.shape[0]) + \" observations and \" + str(data.shape[1]) + \" features.\")\n",
    "print(\"This dataset has a total of: \" + str(data.size) + \" entries.\")"
   ]
  },
  {
   "cell_type": "markdown",
   "metadata": {},
   "source": [
    "* Data Types"
   ]
  },
  {
   "cell_type": "code",
   "execution_count": 189,
   "metadata": {},
   "outputs": [
    {
     "name": "stdout",
     "output_type": "stream",
     "text": [
      "Bank Term Deposit Dataset\n",
      "--------------------------------------\n",
      "<class 'pandas.core.frame.DataFrame'>\n",
      "RangeIndex: 45211 entries, 0 to 45210\n",
      "Data columns (total 17 columns):\n",
      " #   Column     Non-Null Count  Dtype \n",
      "---  ------     --------------  ----- \n",
      " 0   age        45211 non-null  int64 \n",
      " 1   job        45211 non-null  object\n",
      " 2   marital    45211 non-null  object\n",
      " 3   education  45211 non-null  object\n",
      " 4   default    45211 non-null  object\n",
      " 5   balance    45211 non-null  int64 \n",
      " 6   housing    45211 non-null  object\n",
      " 7   loan       45211 non-null  object\n",
      " 8   contact    45211 non-null  object\n",
      " 9   day        45211 non-null  int64 \n",
      " 10  month      45211 non-null  object\n",
      " 11  duration   45211 non-null  int64 \n",
      " 12  campaign   45211 non-null  int64 \n",
      " 13  pdays      45211 non-null  int64 \n",
      " 14  previous   45211 non-null  int64 \n",
      " 15  poutcome   45211 non-null  object\n",
      " 16  y          45211 non-null  object\n",
      "dtypes: int64(7), object(10)\n",
      "memory usage: 5.9+ MB\n",
      "--------------------------------------\n"
     ]
    }
   ],
   "source": [
    "# Check data types\n",
    "print(data.name)\n",
    "print(\"--------------------------------------\")\n",
    "\n",
    "data.info() # get summary of dataset types\n",
    "print(\"--------------------------------------\")"
   ]
  },
  {
   "cell_type": "markdown",
   "metadata": {},
   "source": [
    "All features have the expected type. Notice that all non-null counts are the same, so the dataset does not seem to have missing values of the form N/A. However, let's take a closer look into it."
   ]
  },
  {
   "cell_type": "markdown",
   "metadata": {},
   "source": [
    "* A closer look into categorical variables (unique values)"
   ]
  },
  {
   "cell_type": "code",
   "execution_count": 190,
   "metadata": {},
   "outputs": [
    {
     "name": "stdout",
     "output_type": "stream",
     "text": [
      "Unique values in job are ['management' 'technician' 'entrepreneur' 'blue-collar' 'unknown'\n",
      " 'retired' 'admin.' 'services' 'self-employed' 'unemployed' 'housemaid'\n",
      " 'student']\n",
      "----------------------------------------------------------------------------------------------------\n",
      "Unique values in marital are ['married' 'single' 'divorced']\n",
      "----------------------------------------------------------------------------------------------------\n",
      "Unique values in education are ['tertiary' 'secondary' 'unknown' 'primary']\n",
      "----------------------------------------------------------------------------------------------------\n",
      "Unique values in default are ['no' 'yes']\n",
      "----------------------------------------------------------------------------------------------------\n",
      "Unique values in housing are ['yes' 'no']\n",
      "----------------------------------------------------------------------------------------------------\n",
      "Unique values in loan are ['no' 'yes']\n",
      "----------------------------------------------------------------------------------------------------\n",
      "Unique values in contact are ['unknown' 'cellular' 'telephone']\n",
      "----------------------------------------------------------------------------------------------------\n",
      "Unique values in month are ['may' 'jun' 'jul' 'aug' 'oct' 'nov' 'dec' 'jan' 'feb' 'mar' 'apr' 'sep']\n",
      "----------------------------------------------------------------------------------------------------\n",
      "Unique values in poutcome are ['unknown' 'failure' 'other' 'success']\n",
      "----------------------------------------------------------------------------------------------------\n",
      "Unique values in y are ['no' 'yes']\n",
      "----------------------------------------------------------------------------------------------------\n",
      "Columns with missing values set as 'unknown':\n"
     ]
    },
    {
     "data": {
      "text/plain": [
       "['job', 'education', 'contact', 'poutcome']"
      ]
     },
     "execution_count": 190,
     "metadata": {},
     "output_type": "execute_result"
    }
   ],
   "source": [
    "# Check for unique values into caterogical variables\n",
    "\n",
    "def unique_val(data):                                          # define a function (output: unique values in the categorical variables)\n",
    "    for i in cols:                                             # cols is the list of features from this dataset defined in the \"Importing the Dataset\" section above\n",
    "        if data[i].dtype == 'O':                               # check whether features are categorical variables. 'O' stand for object type.\n",
    "            print('Unique values in', i, 'are', data[i].unique()) # calls function unique() to find get unique values\n",
    "            print('----------------------------------------------------------------------------------------------------')\n",
    "unique_val(data)                  # calls the function\n",
    "\n",
    "print(\"Columns with missing values set as 'unknown':\")\n",
    "cols[                       # uses the list of columns 'cols' and subsets it to the condition we want\n",
    "    (df == 'unknown')       # makes a boolean with True/False \n",
    "    .any(axis = 0)          # returns false unless there is at least one element metting the condition withing a series or along a df axis\n",
    "].to_list()                 # return a list of the values"
   ]
  },
  {
   "cell_type": "markdown",
   "metadata": {},
   "source": [
    "All features look good and with the expected categories for each feature. Moreover, there are no unexpected entries across categories.\n",
    "However, we do see some 'unknown' values in the data for the following categories: _job, education, contact, and poutcome_. This can be interpreted as missing values and need to be trated accordingly."
   ]
  },
  {
   "cell_type": "markdown",
   "metadata": {},
   "source": [
    "* Handling Missing Values"
   ]
  },
  {
   "cell_type": "code",
   "execution_count": 191,
   "metadata": {},
   "outputs": [
    {
     "name": "stdout",
     "output_type": "stream",
     "text": [
      "Checking for missing values in the Bank Term Deposit Dataset\n",
      "------------------------------------------------------------\n",
      "age          0\n",
      "job          0\n",
      "marital      0\n",
      "education    0\n",
      "default      0\n",
      "balance      0\n",
      "housing      0\n",
      "loan         0\n",
      "contact      0\n",
      "day          0\n",
      "month        0\n",
      "duration     0\n",
      "campaign     0\n",
      "pdays        0\n",
      "previous     0\n",
      "poutcome     0\n",
      "y            0\n",
      "dtype: int64\n",
      "------------------------------------------------------------\n"
     ]
    }
   ],
   "source": [
    "print('Checking for missing values in the', data.name)\n",
    "print('------------------------------------------------------------')\n",
    "print(data.isnull().sum())\n",
    "print('------------------------------------------------------------')"
   ]
  },
  {
   "cell_type": "markdown",
   "metadata": {},
   "source": [
    "As we noticed, the standard missing value function cannot help us visualize missing data because missing values does not come as N/A, but as 'unknown'. Thus, we have to find ways to deal with the 'unknown' values.\n",
    "\n",
    "Usually, one of the following is performed to handle missing values:\n",
    "    - Dropping observations or features.\n",
    "    - Imputation via values: filling missing data with some statistic (e.g.: mean, median) or some value (e.g.: 'unknown').\n",
    "    - Imputation via prediction model.\n",
    "\n",
    "In this dataset, there is no missing values in the N/A format. However, as we just saw above, some missing values are treated as 'unknown' values.\n",
    "It is important to check whether missing information (in this case, the 'unknown') has any statistically relevant association with the outcome we want to predict. \n",
    "\n",
    "However, given the timeframe, I will skip this part."
   ]
  },
  {
   "cell_type": "markdown",
   "metadata": {},
   "source": [
    "* Converting Units\n",
    "\n",
    "There is no need to convert units in the given features."
   ]
  },
  {
   "cell_type": "markdown",
   "metadata": {},
   "source": [
    "* Summarizing Continuous Variables\n",
    "\n",
    "In this section we need to check wether the most important statistics makes sence. We'll check the max and min values. Moreover, we'll look into the summary statistics and check for outliers."
   ]
  },
  {
   "cell_type": "code",
   "execution_count": 192,
   "metadata": {},
   "outputs": [
    {
     "data": {
      "text/html": [
       "<div>\n",
       "<style scoped>\n",
       "    .dataframe tbody tr th:only-of-type {\n",
       "        vertical-align: middle;\n",
       "    }\n",
       "\n",
       "    .dataframe tbody tr th {\n",
       "        vertical-align: top;\n",
       "    }\n",
       "\n",
       "    .dataframe thead th {\n",
       "        text-align: right;\n",
       "    }\n",
       "</style>\n",
       "<table border=\"1\" class=\"dataframe\">\n",
       "  <thead>\n",
       "    <tr style=\"text-align: right;\">\n",
       "      <th></th>\n",
       "      <th>age</th>\n",
       "      <th>balance</th>\n",
       "      <th>day</th>\n",
       "      <th>duration</th>\n",
       "      <th>campaign</th>\n",
       "      <th>pdays</th>\n",
       "      <th>previous</th>\n",
       "    </tr>\n",
       "  </thead>\n",
       "  <tbody>\n",
       "    <tr>\n",
       "      <th>count</th>\n",
       "      <td>45211.000000</td>\n",
       "      <td>45211.000000</td>\n",
       "      <td>45211.000000</td>\n",
       "      <td>45211.000000</td>\n",
       "      <td>45211.000000</td>\n",
       "      <td>45211.000000</td>\n",
       "      <td>45211.000000</td>\n",
       "    </tr>\n",
       "    <tr>\n",
       "      <th>mean</th>\n",
       "      <td>40.936210</td>\n",
       "      <td>1362.272058</td>\n",
       "      <td>15.806419</td>\n",
       "      <td>258.163080</td>\n",
       "      <td>2.763841</td>\n",
       "      <td>40.197828</td>\n",
       "      <td>0.580323</td>\n",
       "    </tr>\n",
       "    <tr>\n",
       "      <th>std</th>\n",
       "      <td>10.618762</td>\n",
       "      <td>3044.765829</td>\n",
       "      <td>8.322476</td>\n",
       "      <td>257.527812</td>\n",
       "      <td>3.098021</td>\n",
       "      <td>100.128746</td>\n",
       "      <td>2.303441</td>\n",
       "    </tr>\n",
       "    <tr>\n",
       "      <th>min</th>\n",
       "      <td>18.000000</td>\n",
       "      <td>-8019.000000</td>\n",
       "      <td>1.000000</td>\n",
       "      <td>0.000000</td>\n",
       "      <td>1.000000</td>\n",
       "      <td>-1.000000</td>\n",
       "      <td>0.000000</td>\n",
       "    </tr>\n",
       "    <tr>\n",
       "      <th>25%</th>\n",
       "      <td>33.000000</td>\n",
       "      <td>72.000000</td>\n",
       "      <td>8.000000</td>\n",
       "      <td>103.000000</td>\n",
       "      <td>1.000000</td>\n",
       "      <td>-1.000000</td>\n",
       "      <td>0.000000</td>\n",
       "    </tr>\n",
       "    <tr>\n",
       "      <th>50%</th>\n",
       "      <td>39.000000</td>\n",
       "      <td>448.000000</td>\n",
       "      <td>16.000000</td>\n",
       "      <td>180.000000</td>\n",
       "      <td>2.000000</td>\n",
       "      <td>-1.000000</td>\n",
       "      <td>0.000000</td>\n",
       "    </tr>\n",
       "    <tr>\n",
       "      <th>75%</th>\n",
       "      <td>48.000000</td>\n",
       "      <td>1428.000000</td>\n",
       "      <td>21.000000</td>\n",
       "      <td>319.000000</td>\n",
       "      <td>3.000000</td>\n",
       "      <td>-1.000000</td>\n",
       "      <td>0.000000</td>\n",
       "    </tr>\n",
       "    <tr>\n",
       "      <th>max</th>\n",
       "      <td>95.000000</td>\n",
       "      <td>102127.000000</td>\n",
       "      <td>31.000000</td>\n",
       "      <td>4918.000000</td>\n",
       "      <td>63.000000</td>\n",
       "      <td>871.000000</td>\n",
       "      <td>275.000000</td>\n",
       "    </tr>\n",
       "  </tbody>\n",
       "</table>\n",
       "</div>"
      ],
      "text/plain": [
       "                age        balance           day      duration      campaign  \\\n",
       "count  45211.000000   45211.000000  45211.000000  45211.000000  45211.000000   \n",
       "mean      40.936210    1362.272058     15.806419    258.163080      2.763841   \n",
       "std       10.618762    3044.765829      8.322476    257.527812      3.098021   \n",
       "min       18.000000   -8019.000000      1.000000      0.000000      1.000000   \n",
       "25%       33.000000      72.000000      8.000000    103.000000      1.000000   \n",
       "50%       39.000000     448.000000     16.000000    180.000000      2.000000   \n",
       "75%       48.000000    1428.000000     21.000000    319.000000      3.000000   \n",
       "max       95.000000  102127.000000     31.000000   4918.000000     63.000000   \n",
       "\n",
       "              pdays      previous  \n",
       "count  45211.000000  45211.000000  \n",
       "mean      40.197828      0.580323  \n",
       "std      100.128746      2.303441  \n",
       "min       -1.000000      0.000000  \n",
       "25%       -1.000000      0.000000  \n",
       "50%       -1.000000      0.000000  \n",
       "75%       -1.000000      0.000000  \n",
       "max      871.000000    275.000000  "
      ]
     },
     "execution_count": 192,
     "metadata": {},
     "output_type": "execute_result"
    }
   ],
   "source": [
    "# Summary Statistics\n",
    "data.describe()"
   ]
  },
  {
   "cell_type": "markdown",
   "metadata": {},
   "source": [
    "Quick overview:\n",
    "\n",
    "- [Age] Note that the average age of people in this dataset is roughly 41 years old. The median is 39 years old, which means that half of the people with an open account at this bank is less than 39 and half is older. This makes sense, since we can find both older and younger people with an open banck account. Moreover, the percentile 75th is 48 years old, which means that 75% of the people (the majority) are less than 48 years old. Both the min and max values do make sense, because there can be someone very old (95 years old) and someone just starting their adult life (18 years old).\n",
    "- [Balance] Note that 75% of the people have less than 1428 euros in their bank account by the end of the year, on average. Both the min and max values do make sense, because there can be someone very rich (100k euros) and someone with a big debt (-8k euros).\n",
    "- [Day] Everything looks normal for this variable. Note that half of the people we contact last in the first half of the month and the other half in the last half of the month. This could be an interesting feature because maybe some people are more prone to subscribing a term deposit when they are done paying the majority of their household bills.\n",
    "- [Campaign] Note that the average number of contacts performed during this campaign for a specific client is roughly 3 times. However, we do notice that the max number does not make much sense because it would be very strange that someone was contacted 63 times during a campaign. This makes even more sence when 75% of the people were contacted at most 3 times. _This could also be an outlier and could be affecting some statistics such as the mean._\n",
    "- [Pdays] Note that the majority of people (75% of them) were not previously contacted. For those 25% who are left, we see an average of 40 days after the client was last contacted from a previous campaign, with a large variation. This variation can make sense since we are looking into a small portion of the data. Someone was last contacted 871 days after the last campaign. _This could also be an outlier and could be affecting some statistics such as the mean._\n",
    "- [Previous] Note that before this campaign, the majority of people were not contacted. From what is left, less than 1 contact was performed on average per client. Someone was contacted 275 times before this campaign and this seems odd. _This could also be an outlier and could be affecting some statistics such as the mean._"
   ]
  },
  {
   "cell_type": "markdown",
   "metadata": {},
   "source": [
    "* Summarizing Continuous Variables - Outliers\n",
    "\n",
    "Outliers can be found due to varation in the data (i.e., due to variance in some features) or due to mistakes. Both cases can be dealt with. Let's start looking at the probability distribution of those features and look of skewness. The candidate features for outliers are _campaign_, _pdays_ and _previous_.\n",
    "\n",
    "Note that for the pdays features, -1 means that the client was not previously contacted. Thus, since pdays means the number of days that passed by after the client was last contacted from a previous campaign. I will skip this one in light of time."
   ]
  },
  {
   "cell_type": "code",
   "execution_count": 193,
   "metadata": {},
   "outputs": [
    {
     "data": {
      "image/png": "[encoded data removed]",
      "text/plain": [
       "<Figure size 1440x360 with 2 Axes>"
      ]
     },
     "metadata": {
      "needs_background": "light"
     },
     "output_type": "display_data"
    }
   ],
   "source": [
    "# Probability Distributions\n",
    "\n",
    "plt.figure(figsize = (20,5))\n",
    "\n",
    "plt.subplot(1, 2, 1) # 1: both plots on same row / 2: divide both plots into 2 columns / 1: controls the second plot\n",
    "sns.distplot(data['campaign'])\n",
    "plt.xlabel('Campaign')\n",
    "\n",
    "plt.subplot(1, 2, 2) # 1: both plots on same row / 2: divide both plots into 2 columns / 1: controls the second plot\n",
    "sns.distplot(data['previous'])\n",
    "plt.xlabel('previous')\n",
    "\n",
    "plt.show()"
   ]
  },
  {
   "cell_type": "markdown",
   "metadata": {},
   "source": [
    "We can see that all the candidate features for outliers are very skewed. Thus, let's not visualize them using boxplots. "
   ]
  },
  {
   "cell_type": "code",
   "execution_count": 194,
   "metadata": {},
   "outputs": [
    {
     "data": {
      "image/png": "[encoded data removed]",
      "text/plain": [
       "<Figure size 1440x360 with 2 Axes>"
      ]
     },
     "metadata": {
      "needs_background": "light"
     },
     "output_type": "display_data"
    }
   ],
   "source": [
    "# Boxplots\n",
    "\n",
    "plt.figure(figsize = (20,5))\n",
    "\n",
    "plt.subplot(1, 2, 1) # 1: both plots on same row / 2: divide both plots into 2 columns / 1: controls the first plot\n",
    "sns.boxplot(x = data['campaign'], orient = 'h')\n",
    "plt.xlabel('Campaign')\n",
    "\n",
    "plt.subplot(1, 2, 2) # 1: both plots on same row / 2: divide both plots into 2 columns / 1: controls the first plot\n",
    "sns.boxplot(x = data['previous'], orient = 'h')\n",
    "plt.xlabel('previous')\n",
    "\n",
    "plt.show()"
   ]
  },
  {
   "cell_type": "markdown",
   "metadata": {},
   "source": [
    "There are clearly some outliers in these features. We need to handle those. I am going to try 2 methods:\n",
    "- Interquartile Range (IQR) method (with threshold set only for the upper limit due to right skewness)\n",
    "- Z-score method\n",
    "\n",
    "I will compare both methods and decide for the best."
   ]
  },
  {
   "cell_type": "code",
   "execution_count": 195,
   "metadata": {},
   "outputs": [
    {
     "name": "stdout",
     "output_type": "stream",
     "text": [
      "There are 3064 outliers in the campaign feature.\n",
      "There are 8257 outliers in the previous feature.\n",
      "There are a total of 11112 outliers.\n"
     ]
    }
   ],
   "source": [
    "# IQR Method\n",
    "\n",
    "## campaign \n",
    "Q1_campaign = np.percentile(data['campaign'], 25, interpolation = 'midpoint')\n",
    "Q3_campaign = np.percentile(data['campaign'], 75, interpolation = 'midpoint')\n",
    "\n",
    "IQR_campaign     = Q3_campaign - Q1_campaign        # compute the IQR\n",
    "low_lim_campaign = Q1_campaign - 1.5 * IQR_campaign # lower limit\n",
    "up_lim_campaign  = Q3_campaign + 1.5 * IQR_campaign # upper limit\n",
    "\n",
    "## previous \n",
    "Q1_previous = np.percentile(data['previous'], 25, interpolation = 'midpoint')\n",
    "Q3_previous = np.percentile(data['previous'], 75, interpolation = 'midpoint')\n",
    "\n",
    "IQR_previous     = Q3_previous - Q1_previous        # compute the IQR\n",
    "low_lim_previous = Q1_previous - 1.5 * IQR_previous # lower limit\n",
    "up_lim_previous  = Q3_previous + 1.5 * IQR_previous # upper limit\n",
    "\n",
    "## Mark and Save outliers in new column - only for the upper limit due to the strong right skewness of the data\n",
    "outlier_mask_campaign = (data['campaign'] > up_lim_campaign)\n",
    "outlier_mask_previous = (data['previous'] > up_lim_previous)\n",
    "\n",
    "data['Outlier_campaign'] = np.where((outlier_mask_campaign), 1, 0) # if out of IQR threshold, then assign value 1, otherwise 0\n",
    "data['Outlier_previous'] = np.where((outlier_mask_previous), 1, 0) \n",
    "\n",
    "## Mark all outliers in new column\n",
    "is_outlier_campaign = (data['Outlier_campaign'] == 1)\n",
    "is_outlier_previous = (data['Outlier_previous'] == 1)\n",
    "\n",
    "data['Outliers'] = np.where((is_outlier_campaign | is_outlier_previous), 1, 0)  # if outlier, then assign value 1, otherwise 0\n",
    "\n",
    "## Count Outliers\n",
    "count_outliers_campaign = data['Outlier_campaign'].sum()\n",
    "count_outliers_previous = data['Outlier_previous'].sum()\n",
    "count_all_outliers      = data['Outliers'].sum()\n",
    "\n",
    "print(\"There are \" + str(count_outliers_campaign) + \" outliers in the campaign feature.\")\n",
    "print(\"There are \" + str(count_outliers_previous) + \" outliers in the previous feature.\")\n",
    "print(\"There are a total of \" + str(count_all_outliers) + \" outliers.\")\n"
   ]
  },
  {
   "cell_type": "markdown",
   "metadata": {},
   "source": [
    "Note: All outliers are marked in the respective features. We can proceed with trimming."
   ]
  },
  {
   "cell_type": "code",
   "execution_count": 196,
   "metadata": {},
   "outputs": [
    {
     "name": "stdout",
     "output_type": "stream",
     "text": [
      "Old dataset shape: 45211 observations left and same 20 features.\n",
      "New dataset shape: 34099 observations left and same 20 features.\n",
      "All outliers were removed.\n"
     ]
    },
    {
     "data": {
      "text/html": [
       "<div>\n",
       "<style scoped>\n",
       "    .dataframe tbody tr th:only-of-type {\n",
       "        vertical-align: middle;\n",
       "    }\n",
       "\n",
       "    .dataframe tbody tr th {\n",
       "        vertical-align: top;\n",
       "    }\n",
       "\n",
       "    .dataframe thead th {\n",
       "        text-align: right;\n",
       "    }\n",
       "</style>\n",
       "<table border=\"1\" class=\"dataframe\">\n",
       "  <thead>\n",
       "    <tr style=\"text-align: right;\">\n",
       "      <th></th>\n",
       "      <th>age</th>\n",
       "      <th>balance</th>\n",
       "      <th>day</th>\n",
       "      <th>duration</th>\n",
       "      <th>campaign</th>\n",
       "      <th>pdays</th>\n",
       "      <th>previous</th>\n",
       "    </tr>\n",
       "  </thead>\n",
       "  <tbody>\n",
       "    <tr>\n",
       "      <th>count</th>\n",
       "      <td>34099.000000</td>\n",
       "      <td>34099.000000</td>\n",
       "      <td>34099.000000</td>\n",
       "      <td>34099.000000</td>\n",
       "      <td>34099.000000</td>\n",
       "      <td>34099.0</td>\n",
       "      <td>34099.0</td>\n",
       "    </tr>\n",
       "    <tr>\n",
       "      <th>mean</th>\n",
       "      <td>40.915217</td>\n",
       "      <td>1320.591806</td>\n",
       "      <td>15.800698</td>\n",
       "      <td>263.367430</td>\n",
       "      <td>2.185020</td>\n",
       "      <td>-1.0</td>\n",
       "      <td>0.0</td>\n",
       "    </tr>\n",
       "    <tr>\n",
       "      <th>std</th>\n",
       "      <td>10.494889</td>\n",
       "      <td>3036.691121</td>\n",
       "      <td>8.295392</td>\n",
       "      <td>262.849609</td>\n",
       "      <td>1.337276</td>\n",
       "      <td>0.0</td>\n",
       "      <td>0.0</td>\n",
       "    </tr>\n",
       "    <tr>\n",
       "      <th>min</th>\n",
       "      <td>18.000000</td>\n",
       "      <td>-8019.000000</td>\n",
       "      <td>1.000000</td>\n",
       "      <td>0.000000</td>\n",
       "      <td>1.000000</td>\n",
       "      <td>-1.0</td>\n",
       "      <td>0.0</td>\n",
       "    </tr>\n",
       "    <tr>\n",
       "      <th>25%</th>\n",
       "      <td>33.000000</td>\n",
       "      <td>58.000000</td>\n",
       "      <td>8.000000</td>\n",
       "      <td>106.000000</td>\n",
       "      <td>1.000000</td>\n",
       "      <td>-1.0</td>\n",
       "      <td>0.0</td>\n",
       "    </tr>\n",
       "    <tr>\n",
       "      <th>50%</th>\n",
       "      <td>39.000000</td>\n",
       "      <td>418.000000</td>\n",
       "      <td>16.000000</td>\n",
       "      <td>183.000000</td>\n",
       "      <td>2.000000</td>\n",
       "      <td>-1.0</td>\n",
       "      <td>0.0</td>\n",
       "    </tr>\n",
       "    <tr>\n",
       "      <th>75%</th>\n",
       "      <td>49.000000</td>\n",
       "      <td>1363.500000</td>\n",
       "      <td>21.000000</td>\n",
       "      <td>323.000000</td>\n",
       "      <td>3.000000</td>\n",
       "      <td>-1.0</td>\n",
       "      <td>0.0</td>\n",
       "    </tr>\n",
       "    <tr>\n",
       "      <th>max</th>\n",
       "      <td>95.000000</td>\n",
       "      <td>102127.000000</td>\n",
       "      <td>31.000000</td>\n",
       "      <td>4918.000000</td>\n",
       "      <td>6.000000</td>\n",
       "      <td>-1.0</td>\n",
       "      <td>0.0</td>\n",
       "    </tr>\n",
       "  </tbody>\n",
       "</table>\n",
       "</div>"
      ],
      "text/plain": [
       "                age        balance           day      duration      campaign  \\\n",
       "count  34099.000000   34099.000000  34099.000000  34099.000000  34099.000000   \n",
       "mean      40.915217    1320.591806     15.800698    263.367430      2.185020   \n",
       "std       10.494889    3036.691121      8.295392    262.849609      1.337276   \n",
       "min       18.000000   -8019.000000      1.000000      0.000000      1.000000   \n",
       "25%       33.000000      58.000000      8.000000    106.000000      1.000000   \n",
       "50%       39.000000     418.000000     16.000000    183.000000      2.000000   \n",
       "75%       49.000000    1363.500000     21.000000    323.000000      3.000000   \n",
       "max       95.000000  102127.000000     31.000000   4918.000000      6.000000   \n",
       "\n",
       "         pdays  previous  \n",
       "count  34099.0   34099.0  \n",
       "mean      -1.0       0.0  \n",
       "std        0.0       0.0  \n",
       "min       -1.0       0.0  \n",
       "25%       -1.0       0.0  \n",
       "50%       -1.0       0.0  \n",
       "75%       -1.0       0.0  \n",
       "max       -1.0       0.0  "
      ]
     },
     "execution_count": 196,
     "metadata": {},
     "output_type": "execute_result"
    }
   ],
   "source": [
    "# Trimming based on IQR Method\n",
    "\n",
    "new_data = data[data['Outliers'] == 0] # remove all outliers\n",
    "print(\"Old dataset shape: \" + str(data.shape[0])     + \" observations left and same \" + str(data.shape[1])     + \" features.\")\n",
    "print(\"New dataset shape: \" + str(new_data.shape[0]) + \" observations left and same \" + str(new_data.shape[1]) + \" features.\")\n",
    "print(\"All outliers were removed.\")\n",
    "\n",
    "# Drop unecessary columns\n",
    "data     = data.drop(    columns = ['Outliers', 'Outlier_campaign', 'Outlier_previous'])                                                               # save only data without outliers\n",
    "new_data = new_data.drop(columns = ['Outliers', 'Outlier_campaign', 'Outlier_previous'])                                                               # save only data without outliers\n",
    "\n",
    "new_data.describe()"
   ]
  },
  {
   "cell_type": "markdown",
   "metadata": {},
   "source": [
    "Note that after we removed the potential outliers, we were left only with people who were not contacted before this campaign (maximum value of _previous_ = 0).\n",
    "Moreover, since _pdays_ would show number of days that passed by after the client was last contacted from a previous campaign, it makes sense to only be left with the value -1, which indicates people who were not previously contacted.\n",
    " \n",
    "Now let's plot the data again, but for the only relevant feature left: _campaign_."
   ]
  },
  {
   "cell_type": "code",
   "execution_count": 205,
   "metadata": {},
   "outputs": [
    {
     "data": {
      "image/png": "[encoded data removed]",
      "text/plain": [
       "<Figure size 1440x720 with 4 Axes>"
      ]
     },
     "metadata": {
      "needs_background": "light"
     },
     "output_type": "display_data"
    }
   ],
   "source": [
    "# Boxplots & Probability Distribution\n",
    "\n",
    "plt.figure(figsize = (20,10))\n",
    "\n",
    "plt.subplot(2, 2, 1) # 2: both plots on 2 rows / 2: divide both plots into 2 columns / 1: controls the second plot\n",
    "sns.distplot(data['campaign'])\n",
    "plt.xlabel('Campaign - With Outliers')\n",
    "\n",
    "plt.subplot(2, 2, 2) # 2: both plots on 2 rows / 2: divide both plots into 2 columns / 2: controls the first plot\n",
    "sns.boxplot(x = data['campaign'], orient = 'h')\n",
    "plt.xlabel('Campaign - With Outliers')\n",
    "\n",
    "plt.subplot(2, 2, 3) # 2: both plots on 2 rows / 2: divide both plots into 2 columns / 3: controls the third plot\n",
    "sns.distplot(new_data['campaign'])\n",
    "plt.xlabel('Campaign - After Removing Outliers')\n",
    "\n",
    "plt.subplot(2, 2, 4) # 2: both plots on 2 rows / 2: divide both plots into 2 columns / 4: controls the fourth plot\n",
    "sns.boxplot(x = new_data['campaign'], orient = 'h')\n",
    "plt.xlabel('Campaign - After Removing Outliers')\n",
    "\n",
    "plt.show()\n"
   ]
  },
  {
   "cell_type": "markdown",
   "metadata": {},
   "source": [
    "After we removed the potential outliers, the relavent feature is _campaign_, which shows the number of contacts performed during this campaign.\n",
    "\n",
    "Notice that we have a Multimodal Distribution for the feature campaign."
   ]
  },
  {
   "cell_type": "markdown",
   "metadata": {},
   "source": [
    "* Summary and Outliers - Categorical Variables"
   ]
  },
  {
   "cell_type": "code",
   "execution_count": 198,
   "metadata": {},
   "outputs": [],
   "source": [
    "# Category Distribution (Relative Frequency Distribution)"
   ]
  }
 ],
 "metadata": {
  "interpreter": {
   "hash": "ac7dd041828cf56631353191c608ccde6a0be02c5ac588a2993150c1410b91d4"
  },
  "kernelspec": {
   "display_name": "Python 3.9.7 ('base')",
   "language": "python",
   "name": "python3"
  },
  "language_info": {
   "codemirror_mode": {
    "name": "ipython",
    "version": 3
   },
   "file_extension": ".py",
   "mimetype": "text/x-python",
   "name": "python",
   "nbconvert_exporter": "python",
   "pygments_lexer": "ipython3",
   "version": "3.9.7"
  },
  "orig_nbformat": 4
 },
 "nbformat": 4,
 "nbformat_minor": 2
}
